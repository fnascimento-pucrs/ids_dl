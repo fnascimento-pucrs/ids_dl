{
 "cells": [
  {
   "cell_type": "markdown",
   "metadata": {},
   "source": [
    "# IDS-IPS with Deep Learning"
   ]
  },
  {
   "cell_type": "markdown",
   "metadata": {},
   "source": [
    "Our goal is to build a proof-of-concept model that mimics an IDS-IPS system by predicting whether a stream of network data is malicious or benign. Common IDS-IPS systems use signature-based detection that flags previously-identified malicious network activities. While there are anomaly-based IDS-IPS systems, they often use DBSCAN (Density-Based Spatial Clustering of Applications with Noise) or Gaussian Mixture Models to identify outliers. In this notebook, I will attempt to build a DNN that identifies anomalies in network activity and perform classification. In addition, I will also build an autoencoder network, PCA, DBSCAN, K-Means Clustering and a Gaussian Mixture Model for benchmark purpsoes.\n",
    "\n",
    "The dataset we're using is from ISCX 2017. \n",
    "\n",
    "> CICIDS2017 dataset contains benign and the most up-to-date common attacks, which resembles the true real-world data (PCAPs). It also includes the results of the network traffic analysis using CICFlowMeter with labeled flows based on the time stamp, source and destination IPs, source and destination ports, protocols and attack (CSV files)."
   ]
  },
  {
   "cell_type": "markdown",
   "metadata": {},
   "source": [
    "# EDA"
   ]
  },
  {
   "cell_type": "code",
   "execution_count": 1,
   "metadata": {},
   "outputs": [],
   "source": [
    "# Essentials\n",
    "import pandas as pd\n",
    "import numpy as np\n",
    "\n",
    "# Plots\n",
    "import seaborn as sns\n",
    "import matplotlib.pyplot as plt\n",
    "\n",
    "# Ignore useless warnings\n",
    "import warnings\n",
    "warnings.filterwarnings(action=\"ignore\")\n",
    "pd.options.display.max_seq_items = 8000\n",
    "pd.options.display.max_rows = 8000\n",
    "\n",
    "import os\n",
    "pd.set_option(\"display.precision\", 2)\n",
    "\n",
    "# MLxtend\n",
    "from mlxtend.feature_selection import ColumnSelector\n",
    "\n",
    "# Models\n",
    "from sklearn.cluster import KMeans, DBSCAN\n",
    "from sklearn.linear_model import LogisticRegression\n",
    "from sklearn.decomposition import PCA\n",
    "from sklearn import tree\n",
    "\n",
    "# Misc\n",
    "from sklearn.model_selection import GridSearchCV, KFold, cross_val_score, train_test_split\n",
    "from sklearn.impute import SimpleImputer\n",
    "from sklearn.preprocessing import MinMaxScaler, LabelEncoder, StandardScaler\n",
    "from sklearn.feature_selection import SelectPercentile, f_classif\n",
    "from scipy.spatial.distance import cdist\n",
    "from sklearn.utils import resample\n",
    "from sklearn.metrics import silhouette_score, homogeneity_completeness_v_measure, accuracy_score, confusion_matrix, roc_auc_score, roc_curve"
   ]
  },
  {
   "cell_type": "code",
   "execution_count": 2,
   "metadata": {},
   "outputs": [
    {
     "name": "stdout",
     "output_type": "stream",
     "text": [
      "['Thursday-WorkingHours-Afternoon-Infilteration.pcap_ISCX.csv', 'Monday-WorkingHours.pcap_ISCX.csv', 'Friday-WorkingHours-Morning.pcap_ISCX.csv', 'Friday-WorkingHours-Afternoon-PortScan.pcap_ISCX.csv', 'Friday-WorkingHours-Afternoon-DDos.pcap_ISCX.csv', 'Tuesday-WorkingHours.pcap_ISCX.csv', 'Wednesday-workingHours.pcap_ISCX.csv', 'Thursday-WorkingHours-Morning-WebAttacks.pcap_ISCX.csv']\n"
     ]
    }
   ],
   "source": [
    "# Here, we take a look at how many CSV files we have\n",
    "print(os.listdir('./data'))"
   ]
  },
  {
   "cell_type": "markdown",
   "metadata": {},
   "source": [
    "First, let's load in the dataset and have a look at the raw data. Since we have multiple csv files, I'll load them all at once and concatenate them into one giant dataframe"
   ]
  },
  {
   "cell_type": "code",
   "execution_count": 3,
   "metadata": {
    "scrolled": true
   },
   "outputs": [
    {
     "data": {
      "text/plain": [
       "(2830743, 79)"
      ]
     },
     "execution_count": 3,
     "metadata": {},
     "output_type": "execute_result"
    }
   ],
   "source": [
    "df_list = []\n",
    "for filename in os.listdir('./data'):\n",
    "    df = pd.read_csv(os.path.join('./data',filename), index_col=None)\n",
    "    df_list.append(df)\n",
    "df = pd.concat(df_list, axis=0, ignore_index=True)\n",
    "\n",
    "df.shape"
   ]
  },
  {
   "cell_type": "markdown",
   "metadata": {},
   "source": [
    "At a quick glance, we have 2830743 entries, 78 features and 1 label for the class of the network data. Let's take a closer look at the data. Here, we can see that there are a lot of pre-calculated mean, max, min, std."
   ]
  },
  {
   "cell_type": "code",
   "execution_count": 4,
   "metadata": {
    "scrolled": true
   },
   "outputs": [
    {
     "name": "stdout",
     "output_type": "stream",
     "text": [
      "<class 'pandas.core.frame.DataFrame'>\n",
      "RangeIndex: 2830743 entries, 0 to 2830742\n",
      "Data columns (total 79 columns):\n",
      " Destination Port               int64\n",
      " Flow Duration                  int64\n",
      " Total Fwd Packets              int64\n",
      " Total Backward Packets         int64\n",
      "Total Length of Fwd Packets     int64\n",
      " Total Length of Bwd Packets    int64\n",
      " Fwd Packet Length Max          int64\n",
      " Fwd Packet Length Min          int64\n",
      " Fwd Packet Length Mean         float64\n",
      " Fwd Packet Length Std          float64\n",
      "Bwd Packet Length Max           int64\n",
      " Bwd Packet Length Min          int64\n",
      " Bwd Packet Length Mean         float64\n",
      " Bwd Packet Length Std          float64\n",
      "Flow Bytes/s                    object\n",
      " Flow Packets/s                 object\n",
      " Flow IAT Mean                  float64\n",
      " Flow IAT Std                   float64\n",
      " Flow IAT Max                   int64\n",
      " Flow IAT Min                   int64\n",
      "Fwd IAT Total                   int64\n",
      " Fwd IAT Mean                   float64\n",
      " Fwd IAT Std                    float64\n",
      " Fwd IAT Max                    int64\n",
      " Fwd IAT Min                    int64\n",
      "Bwd IAT Total                   int64\n",
      " Bwd IAT Mean                   float64\n",
      " Bwd IAT Std                    float64\n",
      " Bwd IAT Max                    int64\n",
      " Bwd IAT Min                    int64\n",
      "Fwd PSH Flags                   int64\n",
      " Bwd PSH Flags                  int64\n",
      " Fwd URG Flags                  int64\n",
      " Bwd URG Flags                  int64\n",
      " Fwd Header Length              int64\n",
      " Bwd Header Length              int64\n",
      "Fwd Packets/s                   float64\n",
      " Bwd Packets/s                  float64\n",
      " Min Packet Length              int64\n",
      " Max Packet Length              int64\n",
      " Packet Length Mean             float64\n",
      " Packet Length Std              float64\n",
      " Packet Length Variance         float64\n",
      "FIN Flag Count                  int64\n",
      " SYN Flag Count                 int64\n",
      " RST Flag Count                 int64\n",
      " PSH Flag Count                 int64\n",
      " ACK Flag Count                 int64\n",
      " URG Flag Count                 int64\n",
      " CWE Flag Count                 int64\n",
      " ECE Flag Count                 int64\n",
      " Down/Up Ratio                  int64\n",
      " Average Packet Size            float64\n",
      " Avg Fwd Segment Size           float64\n",
      " Avg Bwd Segment Size           float64\n",
      " Fwd Header Length.1            int64\n",
      "Fwd Avg Bytes/Bulk              int64\n",
      " Fwd Avg Packets/Bulk           int64\n",
      " Fwd Avg Bulk Rate              int64\n",
      " Bwd Avg Bytes/Bulk             int64\n",
      " Bwd Avg Packets/Bulk           int64\n",
      "Bwd Avg Bulk Rate               int64\n",
      "Subflow Fwd Packets             int64\n",
      " Subflow Fwd Bytes              int64\n",
      " Subflow Bwd Packets            int64\n",
      " Subflow Bwd Bytes              int64\n",
      "Init_Win_bytes_forward          int64\n",
      " Init_Win_bytes_backward        int64\n",
      " act_data_pkt_fwd               int64\n",
      " min_seg_size_forward           int64\n",
      "Active Mean                     float64\n",
      " Active Std                     float64\n",
      " Active Max                     int64\n",
      " Active Min                     int64\n",
      "Idle Mean                       float64\n",
      " Idle Std                       float64\n",
      " Idle Max                       int64\n",
      " Idle Min                       int64\n",
      " Label                          object\n",
      "dtypes: float64(22), int64(54), object(3)\n",
      "memory usage: 1.7+ GB\n"
     ]
    }
   ],
   "source": [
    "df.info()"
   ]
  },
  {
   "cell_type": "markdown",
   "metadata": {},
   "source": [
    "Before we go any further, let's rename the columns so that we can access our column data easier."
   ]
  },
  {
   "cell_type": "code",
   "execution_count": 5,
   "metadata": {
    "scrolled": true
   },
   "outputs": [
    {
     "data": {
      "text/plain": [
       "Index(['destination_port', 'flow_duration', 'total_fwd_packets',\n",
       "       'total_backward_packets', 'total_length_of_fwd_packets',\n",
       "       'total_length_of_bwd_packets', 'fwd_packet_length_max',\n",
       "       'fwd_packet_length_min', 'fwd_packet_length_mean',\n",
       "       'fwd_packet_length_std', 'bwd_packet_length_max',\n",
       "       'bwd_packet_length_min', 'bwd_packet_length_mean',\n",
       "       'bwd_packet_length_std', 'flow_bytes/s', 'flow_packets/s',\n",
       "       'flow_iat_mean', 'flow_iat_std', 'flow_iat_max', 'flow_iat_min',\n",
       "       'fwd_iat_total', 'fwd_iat_mean', 'fwd_iat_std', 'fwd_iat_max',\n",
       "       'fwd_iat_min', 'bwd_iat_total', 'bwd_iat_mean', 'bwd_iat_std',\n",
       "       'bwd_iat_max', 'bwd_iat_min', 'fwd_psh_flags', 'bwd_psh_flags',\n",
       "       'fwd_urg_flags', 'bwd_urg_flags', 'fwd_header_length',\n",
       "       'bwd_header_length', 'fwd_packets/s', 'bwd_packets/s',\n",
       "       'min_packet_length', 'max_packet_length', 'packet_length_mean',\n",
       "       'packet_length_std', 'packet_length_variance', 'fin_flag_count',\n",
       "       'syn_flag_count', 'rst_flag_count', 'psh_flag_count', 'ack_flag_count',\n",
       "       'urg_flag_count', 'cwe_flag_count', 'ece_flag_count', 'down/up_ratio',\n",
       "       'average_packet_size', 'avg_fwd_segment_size', 'avg_bwd_segment_size',\n",
       "       'fwd_header_length.1', 'fwd_avg_bytes/bulk', 'fwd_avg_packets/bulk',\n",
       "       'fwd_avg_bulk_rate', 'bwd_avg_bytes/bulk', 'bwd_avg_packets/bulk',\n",
       "       'bwd_avg_bulk_rate', 'subflow_fwd_packets', 'subflow_fwd_bytes',\n",
       "       'subflow_bwd_packets', 'subflow_bwd_bytes', 'init_win_bytes_forward',\n",
       "       'init_win_bytes_backward', 'act_data_pkt_fwd', 'min_seg_size_forward',\n",
       "       'active_mean', 'active_std', 'active_max', 'active_min', 'idle_mean',\n",
       "       'idle_std', 'idle_max', 'idle_min', 'label'],\n",
       "      dtype='object')"
      ]
     },
     "execution_count": 5,
     "metadata": {},
     "output_type": "execute_result"
    }
   ],
   "source": [
    "df.rename(columns=lambda x: x.lower().lstrip()\n",
    "          .rstrip().replace(\" \", \"_\"), inplace=True)\n",
    "df.columns"
   ]
  },
  {
   "cell_type": "markdown",
   "metadata": {},
   "source": [
    "Here, we can see that `Flow Bytes/s`, `Flow Packets/s` and `Labels` are all objects, let's convert the types first"
   ]
  },
  {
   "cell_type": "code",
   "execution_count": 6,
   "metadata": {},
   "outputs": [],
   "source": [
    "df['flow_bytes/s'] = df['flow_bytes/s'].astype('float64')\n",
    "df['flow_packets/s'] = df['flow_packets/s'].astype('float64')"
   ]
  },
  {
   "cell_type": "markdown",
   "metadata": {},
   "source": [
    "As we can see, the data is highly imbalanced. This is actually a huge problem in IDS/IPS models since these imbalanced datasets give rise to a high number of false positives and false negatives. My reasoning would be optimizing the model without overfitting, and allowing more false positives than false negatives.\n",
    "\n",
    "Better safe than sorry..."
   ]
  },
  {
   "cell_type": "code",
   "execution_count": 7,
   "metadata": {},
   "outputs": [
    {
     "data": {
      "text/plain": [
       "BENIGN                        2273097\n",
       "DoS Hulk                       231073\n",
       "PortScan                       158930\n",
       "DDoS                           128027\n",
       "DoS GoldenEye                   10293\n",
       "FTP-Patator                      7938\n",
       "SSH-Patator                      5897\n",
       "DoS slowloris                    5796\n",
       "DoS Slowhttptest                 5499\n",
       "Bot                              1966\n",
       "Web Attack � Brute Force         1507\n",
       "Web Attack � XSS                  652\n",
       "Infiltration                       36\n",
       "Web Attack � Sql Injection         21\n",
       "Heartbleed                         11\n",
       "Name: label, dtype: int64"
      ]
     },
     "execution_count": 7,
     "metadata": {},
     "output_type": "execute_result"
    }
   ],
   "source": [
    "df.label.value_counts()"
   ]
  },
  {
   "cell_type": "markdown",
   "metadata": {},
   "source": [
    "Finally, let's visualize some of the features to see if there are any interesting distribution / trends."
   ]
  },
  {
   "cell_type": "code",
   "execution_count": null,
   "metadata": {
    "scrolled": true
   },
   "outputs": [],
   "source": [
    "numeric_dtypes = ['int64', 'float64']\n",
    "numeric = []\n",
    "\n",
    "# We just want the total instead of the pre-calculated features\n",
    "for i in df.columns:\n",
    "    if df[i].dtype in numeric_dtypes:\n",
    "        if 'mean' in i or 'min' in i or 'max' in i or 'std' in i or 'variance' in i:\n",
    "            pass\n",
    "        else:\n",
    "            numeric.append(i)\n",
    "\n",
    "# visualising data\n",
    "f, ax = plt.subplots(ncols=2, nrows=0, figsize=(12,12))\n",
    "plt.subplots_adjust(right=2)\n",
    "plt.subplots_adjust(top=2)\n",
    "sns.color_palette(\"husl\", 8)\n",
    "\n",
    "for i, feature in enumerate(list(df[numeric]), 1):\n",
    "    if i == 10:\n",
    "        break\n",
    "    plt.subplot(len(list(numeric)), 3, i)\n",
    "    sns.scatterplot(x=feature, y='label', hue='label', palette='Blues', data=df)\n",
    "    plt.xlabel('{}'.format(feature), size=15,labelpad=12.5)\n",
    "    plt.ylabel('Label', size=15, labelpad=12.5)\n",
    "    for j in range(2):\n",
    "        plt.tick_params(axis='x', labelsize=12)\n",
    "        plt.tick_params(axis='y', labelsize=12)\n",
    "    \n",
    "    plt.legend(loc='best', prop={'size': 10})\n",
    "        \n",
    "plt.show()\n",
    "        "
   ]
  },
  {
   "cell_type": "markdown",
   "metadata": {},
   "source": [
    "Last but not least, a quick look at the correlation between features."
   ]
  },
  {
   "cell_type": "code",
   "execution_count": 8,
   "metadata": {
    "scrolled": true
   },
   "outputs": [
    {
     "data": {
      "text/plain": [
       "<matplotlib.axes._subplots.AxesSubplot at 0x1a215d0a20>"
      ]
     },
     "execution_count": 8,
     "metadata": {},
     "output_type": "execute_result"
    },
    {
     "data": {
      "image/png": "[encoded data removed]",
      "text/plain": [
       "<Figure size 1080x864 with 2 Axes>"
      ]
     },
     "metadata": {
      "needs_background": "light"
     },
     "output_type": "display_data"
    }
   ],
   "source": [
    "correlation = df.corr()\n",
    "plt.subplots(figsize=(15,12))\n",
    "sns.heatmap(correlation, vmax=0.9, cmap=\"Blues\", square=True)"
   ]
  },
  {
   "cell_type": "markdown",
   "metadata": {},
   "source": [
    "## Feature Engineering"
   ]
  },
  {
   "cell_type": "markdown",
   "metadata": {},
   "source": [
    "First, we will remove all the pre-calculated mean, variance, std, min and max values for a smaller feature space."
   ]
  },
  {
   "cell_type": "code",
   "execution_count": 8,
   "metadata": {},
   "outputs": [],
   "source": [
    "cols = [col for col in list(df.columns) if 'mean' not in col and 'variance' not in col \n",
    "            and 'std' not in col and 'min' not in col and 'max' not in col]\n",
    "df = df[cols]"
   ]
  },
  {
   "cell_type": "markdown",
   "metadata": {},
   "source": [
    "Before we drop all missing values, we first procede to encode the categorical labels."
   ]
  },
  {
   "cell_type": "code",
   "execution_count": 9,
   "metadata": {},
   "outputs": [
    {
     "name": "stdout",
     "output_type": "stream",
     "text": [
      "{0: 'BENIGN', 1: 'Bot', 2: 'DDoS', 3: 'DoS GoldenEye', 4: 'DoS Hulk', 5: 'DoS Slowhttptest', 6: 'DoS slowloris', 7: 'FTP-Patator', 8: 'Heartbleed', 9: 'Infiltration', 10: 'PortScan', 11: 'SSH-Patator', 12: 'Web Attack � Brute Force', 13: 'Web Attack � Sql Injection', 14: 'Web Attack � XSS'}\n"
     ]
    },
    {
     "data": {
      "text/html": [
       "<div>\n",
       "<style scoped>\n",
       "    .dataframe tbody tr th:only-of-type {\n",
       "        vertical-align: middle;\n",
       "    }\n",
       "\n",
       "    .dataframe tbody tr th {\n",
       "        vertical-align: top;\n",
       "    }\n",
       "\n",
       "    .dataframe thead th {\n",
       "        text-align: right;\n",
       "    }\n",
       "</style>\n",
       "<table border=\"1\" class=\"dataframe\">\n",
       "  <thead>\n",
       "    <tr style=\"text-align: right;\">\n",
       "      <th></th>\n",
       "      <th>destination_port</th>\n",
       "      <th>flow_duration</th>\n",
       "      <th>total_fwd_packets</th>\n",
       "      <th>total_backward_packets</th>\n",
       "      <th>total_length_of_fwd_packets</th>\n",
       "      <th>total_length_of_bwd_packets</th>\n",
       "      <th>flow_bytes/s</th>\n",
       "      <th>flow_packets/s</th>\n",
       "      <th>fwd_iat_total</th>\n",
       "      <th>bwd_iat_total</th>\n",
       "      <th>...</th>\n",
       "      <th>bwd_avg_packets/bulk</th>\n",
       "      <th>bwd_avg_bulk_rate</th>\n",
       "      <th>subflow_fwd_packets</th>\n",
       "      <th>subflow_fwd_bytes</th>\n",
       "      <th>subflow_bwd_packets</th>\n",
       "      <th>subflow_bwd_bytes</th>\n",
       "      <th>init_win_bytes_forward</th>\n",
       "      <th>init_win_bytes_backward</th>\n",
       "      <th>act_data_pkt_fwd</th>\n",
       "      <th>label</th>\n",
       "    </tr>\n",
       "  </thead>\n",
       "  <tbody>\n",
       "    <tr>\n",
       "      <th>0</th>\n",
       "      <td>22</td>\n",
       "      <td>166</td>\n",
       "      <td>1</td>\n",
       "      <td>1</td>\n",
       "      <td>0</td>\n",
       "      <td>0</td>\n",
       "      <td>0.00</td>\n",
       "      <td>12048.19</td>\n",
       "      <td>0</td>\n",
       "      <td>0</td>\n",
       "      <td>...</td>\n",
       "      <td>0</td>\n",
       "      <td>0</td>\n",
       "      <td>1</td>\n",
       "      <td>0</td>\n",
       "      <td>1</td>\n",
       "      <td>0</td>\n",
       "      <td>290</td>\n",
       "      <td>243</td>\n",
       "      <td>0</td>\n",
       "      <td>0</td>\n",
       "    </tr>\n",
       "    <tr>\n",
       "      <th>1</th>\n",
       "      <td>60148</td>\n",
       "      <td>83</td>\n",
       "      <td>1</td>\n",
       "      <td>2</td>\n",
       "      <td>0</td>\n",
       "      <td>0</td>\n",
       "      <td>0.00</td>\n",
       "      <td>36144.58</td>\n",
       "      <td>0</td>\n",
       "      <td>49</td>\n",
       "      <td>...</td>\n",
       "      <td>0</td>\n",
       "      <td>0</td>\n",
       "      <td>1</td>\n",
       "      <td>0</td>\n",
       "      <td>2</td>\n",
       "      <td>0</td>\n",
       "      <td>243</td>\n",
       "      <td>290</td>\n",
       "      <td>0</td>\n",
       "      <td>0</td>\n",
       "    </tr>\n",
       "    <tr>\n",
       "      <th>2</th>\n",
       "      <td>123</td>\n",
       "      <td>99947</td>\n",
       "      <td>1</td>\n",
       "      <td>1</td>\n",
       "      <td>48</td>\n",
       "      <td>48</td>\n",
       "      <td>960.51</td>\n",
       "      <td>20.01</td>\n",
       "      <td>0</td>\n",
       "      <td>0</td>\n",
       "      <td>...</td>\n",
       "      <td>0</td>\n",
       "      <td>0</td>\n",
       "      <td>1</td>\n",
       "      <td>48</td>\n",
       "      <td>1</td>\n",
       "      <td>48</td>\n",
       "      <td>-1</td>\n",
       "      <td>-1</td>\n",
       "      <td>0</td>\n",
       "      <td>0</td>\n",
       "    </tr>\n",
       "    <tr>\n",
       "      <th>3</th>\n",
       "      <td>123</td>\n",
       "      <td>37017</td>\n",
       "      <td>1</td>\n",
       "      <td>1</td>\n",
       "      <td>48</td>\n",
       "      <td>48</td>\n",
       "      <td>2593.40</td>\n",
       "      <td>54.03</td>\n",
       "      <td>0</td>\n",
       "      <td>0</td>\n",
       "      <td>...</td>\n",
       "      <td>0</td>\n",
       "      <td>0</td>\n",
       "      <td>1</td>\n",
       "      <td>48</td>\n",
       "      <td>1</td>\n",
       "      <td>48</td>\n",
       "      <td>-1</td>\n",
       "      <td>-1</td>\n",
       "      <td>0</td>\n",
       "      <td>0</td>\n",
       "    </tr>\n",
       "    <tr>\n",
       "      <th>4</th>\n",
       "      <td>0</td>\n",
       "      <td>111161336</td>\n",
       "      <td>147</td>\n",
       "      <td>0</td>\n",
       "      <td>0</td>\n",
       "      <td>0</td>\n",
       "      <td>0.00</td>\n",
       "      <td>1.32</td>\n",
       "      <td>111000000</td>\n",
       "      <td>0</td>\n",
       "      <td>...</td>\n",
       "      <td>0</td>\n",
       "      <td>0</td>\n",
       "      <td>147</td>\n",
       "      <td>0</td>\n",
       "      <td>0</td>\n",
       "      <td>0</td>\n",
       "      <td>-1</td>\n",
       "      <td>-1</td>\n",
       "      <td>0</td>\n",
       "      <td>0</td>\n",
       "    </tr>\n",
       "  </tbody>\n",
       "</table>\n",
       "<p>5 rows × 45 columns</p>\n",
       "</div>"
      ],
      "text/plain": [
       "   destination_port  flow_duration  total_fwd_packets  total_backward_packets  \\\n",
       "0                22            166                  1                       1   \n",
       "1             60148             83                  1                       2   \n",
       "2               123          99947                  1                       1   \n",
       "3               123          37017                  1                       1   \n",
       "4                 0      111161336                147                       0   \n",
       "\n",
       "   total_length_of_fwd_packets  total_length_of_bwd_packets  flow_bytes/s  \\\n",
       "0                            0                            0          0.00   \n",
       "1                            0                            0          0.00   \n",
       "2                           48                           48        960.51   \n",
       "3                           48                           48       2593.40   \n",
       "4                            0                            0          0.00   \n",
       "\n",
       "   flow_packets/s  fwd_iat_total  bwd_iat_total  ...    bwd_avg_packets/bulk  \\\n",
       "0        12048.19              0              0  ...                       0   \n",
       "1        36144.58              0             49  ...                       0   \n",
       "2           20.01              0              0  ...                       0   \n",
       "3           54.03              0              0  ...                       0   \n",
       "4            1.32      111000000              0  ...                       0   \n",
       "\n",
       "   bwd_avg_bulk_rate  subflow_fwd_packets  subflow_fwd_bytes  \\\n",
       "0                  0                    1                  0   \n",
       "1                  0                    1                  0   \n",
       "2                  0                    1                 48   \n",
       "3                  0                    1                 48   \n",
       "4                  0                  147                  0   \n",
       "\n",
       "   subflow_bwd_packets  subflow_bwd_bytes  init_win_bytes_forward  \\\n",
       "0                    1                  0                     290   \n",
       "1                    2                  0                     243   \n",
       "2                    1                 48                      -1   \n",
       "3                    1                 48                      -1   \n",
       "4                    0                  0                      -1   \n",
       "\n",
       "   init_win_bytes_backward  act_data_pkt_fwd  label  \n",
       "0                      243                 0      0  \n",
       "1                      290                 0      0  \n",
       "2                       -1                 0      0  \n",
       "3                       -1                 0      0  \n",
       "4                       -1                 0      0  \n",
       "\n",
       "[5 rows x 45 columns]"
      ]
     },
     "execution_count": 9,
     "metadata": {},
     "output_type": "execute_result"
    }
   ],
   "source": [
    "# For categorical labels, one hot encode\n",
    "encoder = LabelEncoder()\n",
    "categorical_labels = (encoder.fit_transform(df.label))\n",
    "print({i:label for i,label in enumerate(encoder.classes_)})\n",
    "df = pd.concat([df.drop(['label'], 1),\n",
    "          pd.DataFrame({'label': categorical_labels})], axis=1).reindex()\n",
    "df.head()"
   ]
  },
  {
   "cell_type": "code",
   "execution_count": 10,
   "metadata": {},
   "outputs": [
    {
     "name": "stdout",
     "output_type": "stream",
     "text": [
      "Percent of missing data\n",
      "[('flow_bytes/s', 0.05), ('destination_port', 0.0), ('flow_duration', 0.0), ('total_fwd_packets', 0.0), ('total_backward_packets', 0.0), ('total_length_of_fwd_packets', 0.0), ('total_length_of_bwd_packets', 0.0), ('flow_packets/s', 0.0), ('fwd_iat_total', 0.0), ('bwd_iat_total', 0.0)]\n"
     ]
    }
   ],
   "source": [
    "# Finding missing values\n",
    "def percent_missing(df_cols):\n",
    "    dict_x = {}\n",
    "    for i in range(0,len(df_cols)):\n",
    "        dict_x.update({df_cols[i]: round(df[df_cols[i]].isnull().mean()*100,2)})\n",
    "    return dict_x\n",
    "\n",
    "missing = percent_missing(df.drop(['label'], axis=1).columns)\n",
    "df_miss = sorted(missing.items(), key=lambda kv: kv[1], reverse=True)\n",
    "print('Percent of missing data')\n",
    "print(df_miss[0:10])"
   ]
  },
  {
   "cell_type": "code",
   "execution_count": 11,
   "metadata": {
    "scrolled": true
   },
   "outputs": [
    {
     "name": "stdout",
     "output_type": "stream",
     "text": [
      "False\n",
      "True\n"
     ]
    }
   ],
   "source": [
    "# find all infinite or -infinite values\n",
    "df = df.replace([np.inf, -np.inf], np.nan)\n",
    "# Drop all nan values and remaining non-finite values\n",
    "df = df[~np.any(np.isnan(df), axis=1)]\n",
    "df = df[np.all(np.isfinite(df), axis=1)]\n",
    "# Make sure the dataframe is clean\n",
    "print(np.any(pd.isnull(df))) # Should be False\n",
    "print(np.all(np.isfinite(df.loc[:, df.columns != 'label']))) # Should be True"
   ]
  },
  {
   "cell_type": "code",
   "execution_count": 12,
   "metadata": {},
   "outputs": [
    {
     "data": {
      "text/plain": [
       "(2827876, 45)"
      ]
     },
     "execution_count": 12,
     "metadata": {},
     "output_type": "execute_result"
    }
   ],
   "source": [
    "df.shape"
   ]
  },
  {
   "cell_type": "code",
   "execution_count": 13,
   "metadata": {},
   "outputs": [
    {
     "data": {
      "text/html": [
       "<div>\n",
       "<style scoped>\n",
       "    .dataframe tbody tr th:only-of-type {\n",
       "        vertical-align: middle;\n",
       "    }\n",
       "\n",
       "    .dataframe tbody tr th {\n",
       "        vertical-align: top;\n",
       "    }\n",
       "\n",
       "    .dataframe thead th {\n",
       "        text-align: right;\n",
       "    }\n",
       "</style>\n",
       "<table border=\"1\" class=\"dataframe\">\n",
       "  <thead>\n",
       "    <tr style=\"text-align: right;\">\n",
       "      <th></th>\n",
       "      <th>destination_port</th>\n",
       "      <th>flow_duration</th>\n",
       "      <th>total_fwd_packets</th>\n",
       "      <th>total_backward_packets</th>\n",
       "      <th>total_length_of_fwd_packets</th>\n",
       "      <th>total_length_of_bwd_packets</th>\n",
       "      <th>flow_bytes/s</th>\n",
       "      <th>flow_packets/s</th>\n",
       "      <th>fwd_iat_total</th>\n",
       "      <th>bwd_iat_total</th>\n",
       "      <th>...</th>\n",
       "      <th>bwd_avg_bytes/bulk</th>\n",
       "      <th>bwd_avg_packets/bulk</th>\n",
       "      <th>bwd_avg_bulk_rate</th>\n",
       "      <th>subflow_fwd_packets</th>\n",
       "      <th>subflow_fwd_bytes</th>\n",
       "      <th>subflow_bwd_packets</th>\n",
       "      <th>subflow_bwd_bytes</th>\n",
       "      <th>init_win_bytes_forward</th>\n",
       "      <th>init_win_bytes_backward</th>\n",
       "      <th>act_data_pkt_fwd</th>\n",
       "    </tr>\n",
       "  </thead>\n",
       "  <tbody>\n",
       "    <tr>\n",
       "      <th>0</th>\n",
       "      <td>22</td>\n",
       "      <td>166</td>\n",
       "      <td>1</td>\n",
       "      <td>1</td>\n",
       "      <td>0</td>\n",
       "      <td>0</td>\n",
       "      <td>0.00</td>\n",
       "      <td>12048.19</td>\n",
       "      <td>0</td>\n",
       "      <td>0</td>\n",
       "      <td>...</td>\n",
       "      <td>0</td>\n",
       "      <td>0</td>\n",
       "      <td>0</td>\n",
       "      <td>1</td>\n",
       "      <td>0</td>\n",
       "      <td>1</td>\n",
       "      <td>0</td>\n",
       "      <td>290</td>\n",
       "      <td>243</td>\n",
       "      <td>0</td>\n",
       "    </tr>\n",
       "    <tr>\n",
       "      <th>1</th>\n",
       "      <td>60148</td>\n",
       "      <td>83</td>\n",
       "      <td>1</td>\n",
       "      <td>2</td>\n",
       "      <td>0</td>\n",
       "      <td>0</td>\n",
       "      <td>0.00</td>\n",
       "      <td>36144.58</td>\n",
       "      <td>0</td>\n",
       "      <td>49</td>\n",
       "      <td>...</td>\n",
       "      <td>0</td>\n",
       "      <td>0</td>\n",
       "      <td>0</td>\n",
       "      <td>1</td>\n",
       "      <td>0</td>\n",
       "      <td>2</td>\n",
       "      <td>0</td>\n",
       "      <td>243</td>\n",
       "      <td>290</td>\n",
       "      <td>0</td>\n",
       "    </tr>\n",
       "    <tr>\n",
       "      <th>2</th>\n",
       "      <td>123</td>\n",
       "      <td>99947</td>\n",
       "      <td>1</td>\n",
       "      <td>1</td>\n",
       "      <td>48</td>\n",
       "      <td>48</td>\n",
       "      <td>960.51</td>\n",
       "      <td>20.01</td>\n",
       "      <td>0</td>\n",
       "      <td>0</td>\n",
       "      <td>...</td>\n",
       "      <td>0</td>\n",
       "      <td>0</td>\n",
       "      <td>0</td>\n",
       "      <td>1</td>\n",
       "      <td>48</td>\n",
       "      <td>1</td>\n",
       "      <td>48</td>\n",
       "      <td>-1</td>\n",
       "      <td>-1</td>\n",
       "      <td>0</td>\n",
       "    </tr>\n",
       "    <tr>\n",
       "      <th>3</th>\n",
       "      <td>123</td>\n",
       "      <td>37017</td>\n",
       "      <td>1</td>\n",
       "      <td>1</td>\n",
       "      <td>48</td>\n",
       "      <td>48</td>\n",
       "      <td>2593.40</td>\n",
       "      <td>54.03</td>\n",
       "      <td>0</td>\n",
       "      <td>0</td>\n",
       "      <td>...</td>\n",
       "      <td>0</td>\n",
       "      <td>0</td>\n",
       "      <td>0</td>\n",
       "      <td>1</td>\n",
       "      <td>48</td>\n",
       "      <td>1</td>\n",
       "      <td>48</td>\n",
       "      <td>-1</td>\n",
       "      <td>-1</td>\n",
       "      <td>0</td>\n",
       "    </tr>\n",
       "    <tr>\n",
       "      <th>4</th>\n",
       "      <td>0</td>\n",
       "      <td>111161336</td>\n",
       "      <td>147</td>\n",
       "      <td>0</td>\n",
       "      <td>0</td>\n",
       "      <td>0</td>\n",
       "      <td>0.00</td>\n",
       "      <td>1.32</td>\n",
       "      <td>111000000</td>\n",
       "      <td>0</td>\n",
       "      <td>...</td>\n",
       "      <td>0</td>\n",
       "      <td>0</td>\n",
       "      <td>0</td>\n",
       "      <td>147</td>\n",
       "      <td>0</td>\n",
       "      <td>0</td>\n",
       "      <td>0</td>\n",
       "      <td>-1</td>\n",
       "      <td>-1</td>\n",
       "      <td>0</td>\n",
       "    </tr>\n",
       "  </tbody>\n",
       "</table>\n",
       "<p>5 rows × 44 columns</p>\n",
       "</div>"
      ],
      "text/plain": [
       "   destination_port  flow_duration  total_fwd_packets  total_backward_packets  \\\n",
       "0                22            166                  1                       1   \n",
       "1             60148             83                  1                       2   \n",
       "2               123          99947                  1                       1   \n",
       "3               123          37017                  1                       1   \n",
       "4                 0      111161336                147                       0   \n",
       "\n",
       "   total_length_of_fwd_packets  total_length_of_bwd_packets  flow_bytes/s  \\\n",
       "0                            0                            0          0.00   \n",
       "1                            0                            0          0.00   \n",
       "2                           48                           48        960.51   \n",
       "3                           48                           48       2593.40   \n",
       "4                            0                            0          0.00   \n",
       "\n",
       "   flow_packets/s  fwd_iat_total  bwd_iat_total        ...         \\\n",
       "0        12048.19              0              0        ...          \n",
       "1        36144.58              0             49        ...          \n",
       "2           20.01              0              0        ...          \n",
       "3           54.03              0              0        ...          \n",
       "4            1.32      111000000              0        ...          \n",
       "\n",
       "   bwd_avg_bytes/bulk  bwd_avg_packets/bulk  bwd_avg_bulk_rate  \\\n",
       "0                   0                     0                  0   \n",
       "1                   0                     0                  0   \n",
       "2                   0                     0                  0   \n",
       "3                   0                     0                  0   \n",
       "4                   0                     0                  0   \n",
       "\n",
       "   subflow_fwd_packets  subflow_fwd_bytes  subflow_bwd_packets  \\\n",
       "0                    1                  0                    1   \n",
       "1                    1                  0                    2   \n",
       "2                    1                 48                    1   \n",
       "3                    1                 48                    1   \n",
       "4                  147                  0                    0   \n",
       "\n",
       "   subflow_bwd_bytes  init_win_bytes_forward  init_win_bytes_backward  \\\n",
       "0                  0                     290                      243   \n",
       "1                  0                     243                      290   \n",
       "2                 48                      -1                       -1   \n",
       "3                 48                      -1                       -1   \n",
       "4                  0                      -1                       -1   \n",
       "\n",
       "   act_data_pkt_fwd  \n",
       "0                 0  \n",
       "1                 0  \n",
       "2                 0  \n",
       "3                 0  \n",
       "4                 0  \n",
       "\n",
       "[5 rows x 44 columns]"
      ]
     },
     "execution_count": 13,
     "metadata": {},
     "output_type": "execute_result"
    }
   ],
   "source": [
    "numerical_cols = df[[i for i in list(df.columns) if 'label' not in i]]\n",
    "target_variables = df.label\n",
    "numerical_cols.head()"
   ]
  },
  {
   "cell_type": "code",
   "execution_count": 15,
   "metadata": {},
   "outputs": [
    {
     "name": "stdout",
     "output_type": "stream",
     "text": [
      "['destination_port' 'flow_duration' 'total_length_of_fwd_packets'\n",
      " 'flow_bytes/s' 'flow_packets/s' 'fwd_iat_total' 'bwd_iat_total'\n",
      " 'fwd_psh_flags' 'fwd_packets/s' 'bwd_packets/s' 'fin_flag_count'\n",
      " 'syn_flag_count' 'psh_flag_count' 'ack_flag_count' 'urg_flag_count'\n",
      " 'down/up_ratio']\n"
     ]
    },
    {
     "data": {
      "image/png": "[encoded data removed]",
      "text/plain": [
       "<Figure size 432x288 with 1 Axes>"
      ]
     },
     "metadata": {
      "needs_background": "light"
     },
     "output_type": "display_data"
    }
   ],
   "source": [
    "best_features = SelectPercentile(f_classif, percentile=10)\n",
    "fit = best_features.fit(numerical_cols, target_variables)\n",
    "scores = -np.log10(fit.pvalues_)\n",
    "score_dicts = dict(zip(numerical_cols.columns, scores))\n",
    "sorted_score_dicts = sorted(score_dicts.items(), key=lambda x: x[1], reverse=True)\n",
    "\n",
    "# Use a dataframe for easier processing\n",
    "sorted_score_df = pd.DataFrame(sorted_score_dicts).dropna().reset_index(drop=True)\n",
    "sorted_score_df = sorted_score_df.replace(np.inf, np.max(sorted_score_df[sorted_score_df != np.inf]))\n",
    "\n",
    "# Get feature columns for future use\n",
    "selected_features = np.array(sorted_score_df.loc[:15, 0])\n",
    "print(selected_features)\n",
    "\n",
    "# Plotting feature significance\n",
    "fig = plt.bar(sorted_score_df[0], sorted_score_df[1]) \n",
    "plt.xticks(rotation=90)\n",
    "plt.show()"
   ]
  },
  {
   "cell_type": "markdown",
   "metadata": {},
   "source": [
    "## Exploring with KMeans & PCA"
   ]
  },
  {
   "cell_type": "markdown",
   "metadata": {},
   "source": [
    "Even though that we've trimmed down the features to 15, we would use 45 features first. Then, we can start fitting them in different models and evaluating their performance. \n",
    "\n",
    "The problem with having 15 features is the highly imbalanced dataset...\n",
    "\n",
    "> First, we'll attempt to explore the data further thru clustering and PCA analysis."
   ]
  },
  {
   "cell_type": "code",
   "execution_count": 16,
   "metadata": {},
   "outputs": [
    {
     "name": "stdout",
     "output_type": "stream",
     "text": [
      "False\n",
      "True\n"
     ]
    }
   ],
   "source": [
    "X_train, X_test, y_train, y_test = train_test_split(numerical_cols,target_variables,test_size=0.2, random_state=42)\n",
    "\n",
    "print(np.any(np.isnan(X_train)))\n",
    "print(np.all(np.isfinite(X_train)))"
   ]
  },
  {
   "cell_type": "markdown",
   "metadata": {},
   "source": [
    "## Preparation for model building thru KMeans clustering and PCA decomposition"
   ]
  },
  {
   "cell_type": "code",
   "execution_count": 17,
   "metadata": {},
   "outputs": [],
   "source": [
    "# First, we need to name the index to make sure the pca indices match up to the y-labels\n",
    "X_train = X_train.rename_axis('index')\n",
    "X_test = X_test.rename_axis('index')\n",
    "y_train = y_train.rename_axis('index')\n",
    "y_test = y_test.rename_axis('index')"
   ]
  },
  {
   "cell_type": "code",
   "execution_count": 18,
   "metadata": {},
   "outputs": [
    {
     "name": "stdout",
     "output_type": "stream",
     "text": [
      "[0.59590146 0.21414864]\n"
     ]
    }
   ],
   "source": [
    "pca_train = PCA(n_components=2)\n",
    "pca_train.fit(X_train)\n",
    "print(pca_train.explained_variance_ratio_)\n",
    "pca_train_data = pca_train.transform(X_train)"
   ]
  },
  {
   "cell_type": "markdown",
   "metadata": {},
   "source": [
    "As we can see, the first component accounts for about 59.6% meaning of the data whilst the second accounts for about 21%. The total information lost would be around 100-97 = 3%"
   ]
  },
  {
   "cell_type": "code",
   "execution_count": 19,
   "metadata": {},
   "outputs": [
    {
     "data": {
      "text/html": [
       "<div>\n",
       "<style scoped>\n",
       "    .dataframe tbody tr th:only-of-type {\n",
       "        vertical-align: middle;\n",
       "    }\n",
       "\n",
       "    .dataframe tbody tr th {\n",
       "        vertical-align: top;\n",
       "    }\n",
       "\n",
       "    .dataframe thead th {\n",
       "        text-align: right;\n",
       "    }\n",
       "</style>\n",
       "<table border=\"1\" class=\"dataframe\">\n",
       "  <thead>\n",
       "    <tr style=\"text-align: right;\">\n",
       "      <th></th>\n",
       "      <th>principal_component_1</th>\n",
       "      <th>principal_component_2</th>\n",
       "      <th>label</th>\n",
       "    </tr>\n",
       "    <tr>\n",
       "      <th>index</th>\n",
       "      <th></th>\n",
       "      <th></th>\n",
       "      <th></th>\n",
       "    </tr>\n",
       "  </thead>\n",
       "  <tbody>\n",
       "    <tr>\n",
       "      <th>568437</th>\n",
       "      <td>-2.29e+07</td>\n",
       "      <td>-34195.00</td>\n",
       "      <td>0</td>\n",
       "    </tr>\n",
       "    <tr>\n",
       "      <th>25604</th>\n",
       "      <td>-2.29e+07</td>\n",
       "      <td>-34252.00</td>\n",
       "      <td>0</td>\n",
       "    </tr>\n",
       "    <tr>\n",
       "      <th>334776</th>\n",
       "      <td>-2.29e+07</td>\n",
       "      <td>-34196.10</td>\n",
       "      <td>0</td>\n",
       "    </tr>\n",
       "    <tr>\n",
       "      <th>993731</th>\n",
       "      <td>-2.29e+07</td>\n",
       "      <td>-34210.87</td>\n",
       "      <td>0</td>\n",
       "    </tr>\n",
       "    <tr>\n",
       "      <th>1575239</th>\n",
       "      <td>-1.63e+07</td>\n",
       "      <td>-33470.53</td>\n",
       "      <td>0</td>\n",
       "    </tr>\n",
       "  </tbody>\n",
       "</table>\n",
       "</div>"
      ],
      "text/plain": [
       "         principal_component_1  principal_component_2  label\n",
       "index                                                       \n",
       "568437               -2.29e+07              -34195.00      0\n",
       "25604                -2.29e+07              -34252.00      0\n",
       "334776               -2.29e+07              -34196.10      0\n",
       "993731               -2.29e+07              -34210.87      0\n",
       "1575239              -1.63e+07              -33470.53      0"
      ]
     },
     "execution_count": 19,
     "metadata": {},
     "output_type": "execute_result"
    }
   ],
   "source": [
    "pca_train_df = pd.DataFrame(data = pca_train_data\n",
    "             , columns = ['principal_component_1', 'principal_component_2'], index=X_train.index)\n",
    "pca_train_df = pd.concat([pca_train_df,y_train], axis=1)\n",
    "pca_train_df.head(5)"
   ]
  },
  {
   "cell_type": "markdown",
   "metadata": {},
   "source": [
    "Here, we have to drop the nan columns again due to varaible lost in PCA."
   ]
  },
  {
   "cell_type": "code",
   "execution_count": 20,
   "metadata": {},
   "outputs": [
    {
     "name": "stdout",
     "output_type": "stream",
     "text": [
      "False\n",
      "True\n"
     ]
    }
   ],
   "source": [
    "pca_train_df = pca_train_df.replace([np.inf, -np.inf], np.nan)\n",
    "pca_train_df.dropna(axis=0, inplace=True)\n",
    "print(np.any(pd.isnull(pca_train_df))) # Should be False\n",
    "print(np.all(np.isfinite(pca_train_df))) # Should be True"
   ]
  },
  {
   "cell_type": "markdown",
   "metadata": {},
   "source": [
    "An initial look at the data:"
   ]
  },
  {
   "cell_type": "code",
   "execution_count": 21,
   "metadata": {},
   "outputs": [
    {
     "data": {
      "text/plain": [
       "15"
      ]
     },
     "execution_count": 21,
     "metadata": {},
     "output_type": "execute_result"
    }
   ],
   "source": [
    "len(encoder.classes_)"
   ]
  },
  {
   "cell_type": "code",
   "execution_count": 22,
   "metadata": {},
   "outputs": [
    {
     "data": {
      "image/png": "[encoded data removed]",
      "text/plain": [
       "<Figure size 576x576 with 1 Axes>"
      ]
     },
     "metadata": {
      "needs_background": "light"
     },
     "output_type": "display_data"
    }
   ],
   "source": [
    "fig = plt.figure(figsize = (8,8))\n",
    "ax = fig.add_subplot(1,1,1) \n",
    "ax.set_xlabel('Principal Component 1', fontsize = 15)\n",
    "ax.set_ylabel('Principal Component 2', fontsize = 15)\n",
    "ax.set_title('2 component PCA', fontsize = 20)\n",
    "targets = [0, 1,2,3,4,5,6,7,8,9,10,11,12,13,14]\n",
    "colors = ['#e6194b', '#3cb44b', '#ffe119', '#4363d8', '#f58231', '#911eb4', '#46f0f0', '#f032e6', '#bcf60c', '#fabebe', '#008080', '#e6beff', '#9a6324', '#fffac8', '#800000', '#aaffc3', '#808000']\n",
    "for target, color in zip(targets,colors):\n",
    "    indicesToKeep = pca_train_df['label'] == target\n",
    "    ax.scatter(pca_train_df.loc[indicesToKeep, 'principal_component_1']\n",
    "               , pca_train_df.loc[indicesToKeep, 'principal_component_2']\n",
    "               , c = color\n",
    "               , s = 50)\n",
    "ax.legend(encoder.classes_)\n",
    "ax.grid()"
   ]
  },
  {
   "cell_type": "markdown",
   "metadata": {},
   "source": [
    "> We can see that it is rather hard for the kmeans algorithm to assign clusters as there would be too much overlapping and lead to false positives. This either attributes to inseparable features between infiltration and normal network activity, or the poor feature selection on my part."
   ]
  },
  {
   "cell_type": "markdown",
   "metadata": {},
   "source": [
    "Here, we will proceed again with the elbow method and try clustering to determine anomalies."
   ]
  },
  {
   "cell_type": "code",
   "execution_count": 23,
   "metadata": {},
   "outputs": [
    {
     "data": {
      "text/plain": [
       "(2262300, 3)"
      ]
     },
     "execution_count": 23,
     "metadata": {},
     "output_type": "execute_result"
    }
   ],
   "source": [
    "pca_train_df.shape"
   ]
  },
  {
   "cell_type": "markdown",
   "metadata": {},
   "source": [
    "### Using Elbow method to determine k-value"
   ]
  },
  {
   "cell_type": "code",
   "execution_count": 136,
   "metadata": {},
   "outputs": [
    {
     "name": "stdout",
     "output_type": "stream",
     "text": [
      "{5: 4464597.489670933, 30: 438595.48097460845, 55: 254680.15468371933, 80: 183086.98306114398}\n"
     ]
    }
   ],
   "source": [
    "def eval_kmeans(k, dataset, **kwargs):\n",
    "    estimator = KMeans(random_state=42, n_clusters=k)\n",
    "    estimator.fit(dataset)\n",
    "    return sum(np.min(cdist(dataset, estimator.cluster_centers_, \n",
    "                 'euclidean'),axis=1)) / dataset.shape[0] \n",
    "\n",
    "range_k = range(5,100,25)\n",
    "res = {}\n",
    "for k in range_k:\n",
    "    res[k] = (eval_kmeans(k, pca_train_df))\n",
    "    \n",
    "print(res)"
   ]
  },
  {
   "cell_type": "code",
   "execution_count": 138,
   "metadata": {},
   "outputs": [
    {
     "data": {
      "text/plain": [
       "Text(0.5, 1.0, 'Percentage variance by. K')"
      ]
     },
     "execution_count": 138,
     "metadata": {},
     "output_type": "execute_result"
    },
    {
     "data": {
      "image/png": "[encoded data removed]",
      "text/plain": [
       "<Figure size 432x288 with 1 Axes>"
      ]
     },
     "metadata": {
      "needs_background": "light"
     },
     "output_type": "display_data"
    }
   ],
   "source": [
    "fig, ax = plt.subplots()\n",
    "ax.plot([c[0] for c in res.items()], [c[1] for c in res.items()])\n",
    "ax.set_ylabel('percentage variance', color='blue')\n",
    "plt.xlabel(\"K\")\n",
    "plt.title(\"Percentage variance by. K\")"
   ]
  },
  {
   "cell_type": "markdown",
   "metadata": {},
   "source": [
    "> Hence, we will use k=30 since it is the point where the sum of squared error between the points and cluster centers reach the elbow point. "
   ]
  },
  {
   "cell_type": "markdown",
   "metadata": {},
   "source": [
    "## Testing different model accuracies after kmeans clustering of decomposited features"
   ]
  },
  {
   "cell_type": "code",
   "execution_count": 24,
   "metadata": {},
   "outputs": [
    {
     "name": "stdout",
     "output_type": "stream",
     "text": [
      "[0.71879972 0.14970828]\n"
     ]
    },
    {
     "data": {
      "text/html": [
       "<div>\n",
       "<style scoped>\n",
       "    .dataframe tbody tr th:only-of-type {\n",
       "        vertical-align: middle;\n",
       "    }\n",
       "\n",
       "    .dataframe tbody tr th {\n",
       "        vertical-align: top;\n",
       "    }\n",
       "\n",
       "    .dataframe thead th {\n",
       "        text-align: right;\n",
       "    }\n",
       "</style>\n",
       "<table border=\"1\" class=\"dataframe\">\n",
       "  <thead>\n",
       "    <tr style=\"text-align: right;\">\n",
       "      <th></th>\n",
       "      <th>principal_component_1</th>\n",
       "      <th>principal_component_2</th>\n",
       "      <th>label</th>\n",
       "    </tr>\n",
       "    <tr>\n",
       "      <th>index</th>\n",
       "      <th></th>\n",
       "      <th></th>\n",
       "      <th></th>\n",
       "    </tr>\n",
       "  </thead>\n",
       "  <tbody>\n",
       "    <tr>\n",
       "      <th>176212</th>\n",
       "      <td>-2.28e+07</td>\n",
       "      <td>-1.71e+06</td>\n",
       "      <td>0</td>\n",
       "    </tr>\n",
       "    <tr>\n",
       "      <th>264971</th>\n",
       "      <td>-2.29e+07</td>\n",
       "      <td>-1.60e+05</td>\n",
       "      <td>0</td>\n",
       "    </tr>\n",
       "    <tr>\n",
       "      <th>205226</th>\n",
       "      <td>-2.29e+07</td>\n",
       "      <td>2.22e+06</td>\n",
       "      <td>0</td>\n",
       "    </tr>\n",
       "    <tr>\n",
       "      <th>1369043</th>\n",
       "      <td>-2.08e+07</td>\n",
       "      <td>-1.75e+06</td>\n",
       "      <td>2</td>\n",
       "    </tr>\n",
       "    <tr>\n",
       "      <th>2720650</th>\n",
       "      <td>-1.97e+07</td>\n",
       "      <td>-1.75e+06</td>\n",
       "      <td>0</td>\n",
       "    </tr>\n",
       "  </tbody>\n",
       "</table>\n",
       "</div>"
      ],
      "text/plain": [
       "         principal_component_1  principal_component_2  label\n",
       "index                                                       \n",
       "176212               -2.28e+07              -1.71e+06      0\n",
       "264971               -2.29e+07              -1.60e+05      0\n",
       "205226               -2.29e+07               2.22e+06      0\n",
       "1369043              -2.08e+07              -1.75e+06      2\n",
       "2720650              -1.97e+07              -1.75e+06      0"
      ]
     },
     "execution_count": 24,
     "metadata": {},
     "output_type": "execute_result"
    }
   ],
   "source": [
    "# Now, we establish a pca df for the testing dataset and attempt to predict its values after cluster labelling.\n",
    "pca_test = PCA(n_components=2)\n",
    "pca_test.fit(X_test)\n",
    "print(pca_test.explained_variance_ratio_)\n",
    "pca_test_data = pca_test.transform(X_test)\n",
    "# Setting up the testing df\n",
    "pca_test_df = pd.DataFrame(data = pca_test_data\n",
    "             , columns = ['principal_component_1', 'principal_component_2'], index=X_test.index)\n",
    "pca_test_df.rename_axis('index')\n",
    "pca_test_df = pd.concat([pca_test_df, y_test], axis=1)\n",
    "pca_test_df.head()"
   ]
  },
  {
   "cell_type": "code",
   "execution_count": null,
   "metadata": {},
   "outputs": [],
   "source": [
    "estimator_kmeans = KMeans(n_clusters=30, random_state=42)\n",
    "estimator_kmeans.fit(pca_train_df.loc[:,['principal_component_1', 'principal_component_2']])\n",
    "\n",
    "# Setting up y_labels for training and testing data\n",
    "y_pred_train = estimator_kmeans.labels_\n",
    "y_pred_test = estimator_kmeans.predict(pca_test_df.loc[:, ['principal_component_1', 'principal_component_2']])"
   ]
  },
  {
   "cell_type": "code",
   "execution_count": null,
   "metadata": {},
   "outputs": [],
   "source": [
    "# Adding cluster info into X training and testing set\n",
    "X_train['km_clust'] = y_pred_train\n",
    "X_test['km_clust'] = y_pred_test"
   ]
  },
  {
   "cell_type": "markdown",
   "metadata": {},
   "source": [
    "### Logistic Regression w/o clusters"
   ]
  },
  {
   "cell_type": "code",
   "execution_count": null,
   "metadata": {
    "scrolled": true
   },
   "outputs": [],
   "source": [
    "X_train_no_clust = X_train.drop('km_clust', axis=1)\n",
    "X_test_no_clust = X_test.drop('km_clust', axis=1)\n",
    "\n",
    "# model\n",
    "lr_model_nc = LogisticRegression(random_state=42)\n",
    "lr_model_nc.fit(X_train_no_clust, y_train)\n",
    "y_pred_nc = lr_model_nc.predict(X_test_no_clust)\n",
    "\n",
    "# evaluation\n",
    "print('Accuracy: {}'.format(accuracy_score(y_test, y_pred_nc)))\n",
    "c_matrix = confusion_matrix(y_test, y_pred_nc)\n",
    "fig, ax = plt.subplots()\n",
    "ax = sns.heatmap(c_matrix,annot=True,linewidths=.5)\n",
    "plt.show()"
   ]
  },
  {
   "cell_type": "code",
   "execution_count": null,
   "metadata": {},
   "outputs": [],
   "source": [
    "def eval_metrics(c_matrix):\n",
    "    FP = c_matrix.sum(axis=0) - np.diag(c_matrix)  \n",
    "    FN = c_matrix.sum(axis=1) - np.diag(c_matrix)\n",
    "    TP = np.diag(c_matrix)\n",
    "    TN = c_matrix.sum() - (FP + FN + TP)\n",
    "    print((\" False Positives: {}\\n False Negatives: {}\\n True Positives: {}\\n True Negatives: {} \\n\")\n",
    "          .format(FP.sum(), FN.sum(), TP.sum(), TN.sum()))\n",
    "eval_metrics(c_matrix)"
   ]
  },
  {
   "cell_type": "markdown",
   "metadata": {},
   "source": [
    "### Logistic Regression w/ KMeans clustering of PCA decomposed features"
   ]
  },
  {
   "cell_type": "code",
   "execution_count": null,
   "metadata": {},
   "outputs": [],
   "source": [
    "# model\n",
    "lr_model = LogisticRegression(random_state=42)\n",
    "lr_model.fit(X_train, y_train)\n",
    "lr_y_pred = lr_model.predict(X_test)\n",
    "\n",
    "# evaluation\n",
    "print('Accuracy: {}'.format(accuracy_score(y_test, lr_y_pred)))\n",
    "c_matrix = confusion_matrix(y_test, lr_y_pred)\n",
    "fig, ax = plt.subplots()\n",
    "ax = sns.heatmap(c_matrix,annot=True,linewidths=.5)\n",
    "plt.show()"
   ]
  },
  {
   "cell_type": "code",
   "execution_count": null,
   "metadata": {},
   "outputs": [],
   "source": [
    "eval_metrics(c_matrix)"
   ]
  },
  {
   "cell_type": "markdown",
   "metadata": {},
   "source": [
    "Despite the high accuracy, we can see that it is unable to capture the true positives (only capturing 1/5). In addition, the cluster info also adds no difference for the 2 models. Hence, clustering might not be too effective with too many features together."
   ]
  },
  {
   "cell_type": "markdown",
   "metadata": {},
   "source": [
    "### Logistic Regression after downsampling generic network flows"
   ]
  },
  {
   "cell_type": "code",
   "execution_count": null,
   "metadata": {},
   "outputs": [],
   "source": [
    "# Re-concatenate our training and testing data to downsample majority benign traffic\n",
    "X = pd.concat([X_train, y_train], axis=1)\n",
    "\n",
    "# Separate different traffic flows\n",
    "mal = X[X.label != 0]\n",
    "ben = X[X.label == 0]\n",
    "\n",
    "# Downsample majority\n",
    "ben_downsample = resample(ben, replace=False, n_samples=len(mal), random_state=42)\n",
    "downsampled_df = pd.concat([ben_downsample, mal])\n",
    "\n",
    "# Result of downsampling\n",
    "downsampled_df.label.value_counts()"
   ]
  },
  {
   "cell_type": "code",
   "execution_count": null,
   "metadata": {},
   "outputs": [],
   "source": [
    "# Retrying logistic regression\n",
    "y_train_ds = downsampled_df.label\n",
    "X_train_ds = downsampled_df.drop('label', axis=1)\n",
    "\n",
    "lr_model_ds = LogisticRegression(random_state=42).fit(X_train_ds, y_train_ds)\n",
    "y_pred_ds = lr_model_ds.predict(X_test)\n",
    "\n",
    "# evaluation\n",
    "print('Accuracy: {}'.format(accuracy_score(y_test, y_pred_ds)))\n",
    "c_matrix = confusion_matrix(y_test, y_pred_ds)\n",
    "fig, ax = plt.subplots()\n",
    "ax = sns.heatmap(c_matrix,annot=True,linewidths=.5)\n",
    "plt.show()"
   ]
  },
  {
   "cell_type": "code",
   "execution_count": null,
   "metadata": {},
   "outputs": [],
   "source": [
    "eval_metrics(c_matrix)"
   ]
  },
  {
   "cell_type": "markdown",
   "metadata": {},
   "source": [
    "> As you can see, the false negatives are greatly reduced whilst the false positives are greatly increased. Nevertheless, we have successfully picked up every single malignant traffic with the downsampled model!"
   ]
  },
  {
   "cell_type": "markdown",
   "metadata": {},
   "source": [
    "## Random Forest, SVM and Decision Trees"
   ]
  },
  {
   "cell_type": "markdown",
   "metadata": {},
   "source": [
    "### ID3 Decision Tree after KMeans clustering w/ downsampling\n",
    "\n",
    "In one of the research papers, I read that ID3 decision trees are good for anomaly detection after factoring cluster info. Hence, I will try to use sklearn's decision tree algorithm to try and replicate the result."
   ]
  },
  {
   "cell_type": "code",
   "execution_count": 109,
   "metadata": {},
   "outputs": [
    {
     "name": "stdout",
     "output_type": "stream",
     "text": [
      "Accuracy: 0.9570902821929868\n"
     ]
    },
    {
     "data": {
      "image/png": "[encoded data removed]",
      "text/plain": [
       "<Figure size 432x288 with 2 Axes>"
      ]
     },
     "metadata": {
      "needs_background": "light"
     },
     "output_type": "display_data"
    }
   ],
   "source": [
    "id3_tree_clf = tree.DecisionTreeClassifier()\n",
    "id3_tree_clf.fit(X_train_ds, y_train_ds)\n",
    "y_pred_id3_tree = id3_tree_clf.predict(X_test)\n",
    "\n",
    "# evaluation\n",
    "print('Accuracy: {}'.format(accuracy_score(y_test, y_pred_id3_tree)))\n",
    "c_matrix = confusion_matrix(y_test, y_pred_id3_tree)\n",
    "fig, ax = plt.subplots()\n",
    "ax = sns.heatmap(c_matrix,annot=True,linewidths=.5)\n",
    "plt.show()"
   ]
  },
  {
   "cell_type": "markdown",
   "metadata": {},
   "source": [
    "As a result, the testing `infiltration` packets are all successfully identified. The amount of false positives have also been reduced dramatically."
   ]
  },
  {
   "cell_type": "markdown",
   "metadata": {},
   "source": [
    "### ID3 Decision Tree after KMeans clustering w/o downsampling\n",
    "\n",
    "This model is worrisome as it has a high tendency to overfit due to its nature of generating a lot of layers down the tree. Nevertheless, we will test it out."
   ]
  },
  {
   "cell_type": "code",
   "execution_count": 106,
   "metadata": {},
   "outputs": [
    {
     "name": "stdout",
     "output_type": "stream",
     "text": [
      "Accuracy: 0.999975546534944\n"
     ]
    },
    {
     "data": {
      "image/png": "[encoded data removed]",
      "text/plain": [
       "<Figure size 432x288 with 2 Axes>"
      ]
     },
     "metadata": {
      "needs_background": "light"
     },
     "output_type": "display_data"
    }
   ],
   "source": [
    "id3_tree_clf = tree.DecisionTreeClassifier()\n",
    "id3_tree_clf.fit(X_train, y_train)\n",
    "y_pred_id3_tree = id3_tree_clf.predict(X_test)\n",
    "\n",
    "# evaluation\n",
    "print('Accuracy: {}'.format(accuracy_score(y_test, y_pred_id3_tree)))\n",
    "c_matrix = confusion_matrix(y_test, y_pred_id3_tree)\n",
    "fig, ax = plt.subplots()\n",
    "ax = sns.heatmap(c_matrix,annot=True,linewidths=.5)\n",
    "plt.show()"
   ]
  },
  {
   "cell_type": "code",
   "execution_count": null,
   "metadata": {},
   "outputs": [],
   "source": []
  }
 ],
 "metadata": {
  "kernelspec": {
   "display_name": "Python 3",
   "language": "python",
   "name": "python3"
  },
  "language_info": {
   "codemirror_mode": {
    "name": "ipython",
    "version": 3
   },
   "file_extension": ".py",
   "mimetype": "text/x-python",
   "name": "python",
   "nbconvert_exporter": "python",
   "pygments_lexer": "ipython3",
   "version": "3.7.1"
  }
 },
 "nbformat": 4,
 "nbformat_minor": 2
}
