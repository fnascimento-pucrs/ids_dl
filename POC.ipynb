{
 "cells": [
  {
   "cell_type": "markdown",
   "metadata": {},
   "source": [
    "# IDS-IPS with Deep Learning"
   ]
  },
  {
   "cell_type": "markdown",
   "metadata": {},
   "source": [
    "Our goal is to build a proof-of-concept model that mimics an IDS-IPS system by predicting whether a stream of network data is malicious or benign. Common IDS-IPS systems use signature-based detection that flags previously-identified malicious network activities. While there are anomaly-based IDS-IPS systems, they often use DBSCAN (Density-Based Spatial Clustering of Applications with Noise) or Gaussian Mixture Models to identify outliers. In this notebook, I will attempt to build a DNN that identifies anomalies in network activity and perform classification. In addition, I will also build an autoencoder network, PCA, DBSCAN, K-Means Clustering and a Gaussian Mixture Model for benchmark purpsoes.\n",
    "\n",
    "The dataset we're using is from ISCX 2017. \n",
    "\n",
    "> CICIDS2017 dataset contains benign and the most up-to-date common attacks, which resembles the true real-world data (PCAPs). It also includes the results of the network traffic analysis using CICFlowMeter with labeled flows based on the time stamp, source and destination IPs, source and destination ports, protocols and attack (CSV files)."
   ]
  },
  {
   "cell_type": "markdown",
   "metadata": {},
   "source": [
    "# EDA"
   ]
  },
  {
   "cell_type": "code",
   "execution_count": 208,
   "metadata": {},
   "outputs": [],
   "source": [
    "# Essentials\n",
    "import pandas as pd\n",
    "import numpy as np\n",
    "\n",
    "# Plots\n",
    "import seaborn as sns\n",
    "import matplotlib.pyplot as plt\n",
    "\n",
    "# Ignore useless warnings\n",
    "import warnings\n",
    "warnings.filterwarnings(action=\"ignore\")\n",
    "pd.options.display.max_seq_items = 8000\n",
    "pd.options.display.max_rows = 8000\n",
    "\n",
    "import os\n",
    "pd.set_option(\"display.precision\", 2)\n",
    "\n",
    "# MLxtend\n",
    "from mlxtend.feature_selection import ColumnSelector\n",
    "\n",
    "# Models\n",
    "from sklearn.cluster import KMeans, DBSCAN\n",
    "from sklearn.metrics import silhouette_score, homogeneity_completeness_v_measure, accuracy_score\n",
    "\n",
    "# Misc\n",
    "from sklearn.model_selection import GridSearchCV, KFold, cross_val_score, train_test_split\n",
    "from sklearn.impute import SimpleImputer\n",
    "from sklearn.preprocessing import MinMaxScaler, LabelEncoder, StandardScaler\n",
    "from sklearn.decomposition import PCA\n",
    "from sklearn.feature_selection import SelectPercentile, f_classif\n",
    "from scipy.spatial.distance import cdist"
   ]
  },
  {
   "cell_type": "code",
   "execution_count": 68,
   "metadata": {},
   "outputs": [
    {
     "name": "stdout",
     "output_type": "stream",
     "text": [
      "['Thursday-WorkingHours-Afternoon-Infilteration.pcap_ISCX.csv', 'Monday-WorkingHours.pcap_ISCX.csv', 'Friday-WorkingHours-Morning.pcap_ISCX.csv', 'Friday-WorkingHours-Afternoon-PortScan.pcap_ISCX.csv', 'Friday-WorkingHours-Afternoon-DDos.pcap_ISCX.csv', 'Tuesday-WorkingHours.pcap_ISCX.csv', 'Wednesday-workingHours.pcap_ISCX.csv', 'Thursday-WorkingHours-Morning-WebAttacks.pcap_ISCX.csv']\n"
     ]
    }
   ],
   "source": [
    "# Here, we take a look at how many CSV files we have\n",
    "print(os.listdir('./data'))"
   ]
  },
  {
   "cell_type": "markdown",
   "metadata": {},
   "source": [
    "First, let's load in the dataset and have a look at the raw data. Since we have multiple csv files, I'll load them all at once and concatenate them into one giant dataframe"
   ]
  },
  {
   "cell_type": "code",
   "execution_count": 69,
   "metadata": {
    "scrolled": true
   },
   "outputs": [
    {
     "data": {
      "text/plain": [
       "(818520, 79)"
      ]
     },
     "execution_count": 69,
     "metadata": {},
     "output_type": "execute_result"
    }
   ],
   "source": [
    "df_list = []\n",
    "for filename in os.listdir('./data'):\n",
    "    df = pd.read_csv(os.path.join('./data',filename), index_col=None)\n",
    "    df_list.append(df)\n",
    "df = pd.concat(df_list[:2], axis=0, ignore_index=True)\n",
    "\n",
    "df.shape"
   ]
  },
  {
   "cell_type": "markdown",
   "metadata": {},
   "source": [
    "At a quick glance, we have 2830743 entries, 78 features and 1 label for the class of the network data. Let's take a closer look at the data. Here, we can see that there are a lot of pre-calculated mean, max, min, std."
   ]
  },
  {
   "cell_type": "code",
   "execution_count": 70,
   "metadata": {
    "scrolled": true
   },
   "outputs": [
    {
     "name": "stdout",
     "output_type": "stream",
     "text": [
      "<class 'pandas.core.frame.DataFrame'>\n",
      "RangeIndex: 818520 entries, 0 to 818519\n",
      "Data columns (total 79 columns):\n",
      " Destination Port               818520 non-null int64\n",
      " Flow Duration                  818520 non-null int64\n",
      " Total Fwd Packets              818520 non-null int64\n",
      " Total Backward Packets         818520 non-null int64\n",
      "Total Length of Fwd Packets     818520 non-null int64\n",
      " Total Length of Bwd Packets    818520 non-null int64\n",
      " Fwd Packet Length Max          818520 non-null int64\n",
      " Fwd Packet Length Min          818520 non-null int64\n",
      " Fwd Packet Length Mean         818520 non-null float64\n",
      " Fwd Packet Length Std          818520 non-null float64\n",
      "Bwd Packet Length Max           818520 non-null int64\n",
      " Bwd Packet Length Min          818520 non-null int64\n",
      " Bwd Packet Length Mean         818520 non-null float64\n",
      " Bwd Packet Length Std          818520 non-null float64\n",
      "Flow Bytes/s                    818438 non-null object\n",
      " Flow Packets/s                 818520 non-null object\n",
      " Flow IAT Mean                  818520 non-null float64\n",
      " Flow IAT Std                   818520 non-null float64\n",
      " Flow IAT Max                   818520 non-null int64\n",
      " Flow IAT Min                   818520 non-null int64\n",
      "Fwd IAT Total                   818520 non-null int64\n",
      " Fwd IAT Mean                   818520 non-null float64\n",
      " Fwd IAT Std                    818520 non-null float64\n",
      " Fwd IAT Max                    818520 non-null int64\n",
      " Fwd IAT Min                    818520 non-null int64\n",
      "Bwd IAT Total                   818520 non-null int64\n",
      " Bwd IAT Mean                   818520 non-null float64\n",
      " Bwd IAT Std                    818520 non-null float64\n",
      " Bwd IAT Max                    818520 non-null int64\n",
      " Bwd IAT Min                    818520 non-null int64\n",
      "Fwd PSH Flags                   818520 non-null int64\n",
      " Bwd PSH Flags                  818520 non-null int64\n",
      " Fwd URG Flags                  818520 non-null int64\n",
      " Bwd URG Flags                  818520 non-null int64\n",
      " Fwd Header Length              818520 non-null int64\n",
      " Bwd Header Length              818520 non-null int64\n",
      "Fwd Packets/s                   818520 non-null float64\n",
      " Bwd Packets/s                  818520 non-null float64\n",
      " Min Packet Length              818520 non-null int64\n",
      " Max Packet Length              818520 non-null int64\n",
      " Packet Length Mean             818520 non-null float64\n",
      " Packet Length Std              818520 non-null float64\n",
      " Packet Length Variance         818520 non-null float64\n",
      "FIN Flag Count                  818520 non-null int64\n",
      " SYN Flag Count                 818520 non-null int64\n",
      " RST Flag Count                 818520 non-null int64\n",
      " PSH Flag Count                 818520 non-null int64\n",
      " ACK Flag Count                 818520 non-null int64\n",
      " URG Flag Count                 818520 non-null int64\n",
      " CWE Flag Count                 818520 non-null int64\n",
      " ECE Flag Count                 818520 non-null int64\n",
      " Down/Up Ratio                  818520 non-null int64\n",
      " Average Packet Size            818520 non-null float64\n",
      " Avg Fwd Segment Size           818520 non-null float64\n",
      " Avg Bwd Segment Size           818520 non-null float64\n",
      " Fwd Header Length.1            818520 non-null int64\n",
      "Fwd Avg Bytes/Bulk              818520 non-null int64\n",
      " Fwd Avg Packets/Bulk           818520 non-null int64\n",
      " Fwd Avg Bulk Rate              818520 non-null int64\n",
      " Bwd Avg Bytes/Bulk             818520 non-null int64\n",
      " Bwd Avg Packets/Bulk           818520 non-null int64\n",
      "Bwd Avg Bulk Rate               818520 non-null int64\n",
      "Subflow Fwd Packets             818520 non-null int64\n",
      " Subflow Fwd Bytes              818520 non-null int64\n",
      " Subflow Bwd Packets            818520 non-null int64\n",
      " Subflow Bwd Bytes              818520 non-null int64\n",
      "Init_Win_bytes_forward          818520 non-null int64\n",
      " Init_Win_bytes_backward        818520 non-null int64\n",
      " act_data_pkt_fwd               818520 non-null int64\n",
      " min_seg_size_forward           818520 non-null int64\n",
      "Active Mean                     818520 non-null float64\n",
      " Active Std                     818520 non-null float64\n",
      " Active Max                     818520 non-null int64\n",
      " Active Min                     818520 non-null int64\n",
      "Idle Mean                       818520 non-null float64\n",
      " Idle Std                       818520 non-null float64\n",
      " Idle Max                       818520 non-null int64\n",
      " Idle Min                       818520 non-null int64\n",
      " Label                          818520 non-null object\n",
      "dtypes: float64(22), int64(54), object(3)\n",
      "memory usage: 493.3+ MB\n"
     ]
    }
   ],
   "source": [
    "df.info()"
   ]
  },
  {
   "cell_type": "markdown",
   "metadata": {},
   "source": [
    "Before we go any further, let's rename the columns so that we can access our column data easier."
   ]
  },
  {
   "cell_type": "code",
   "execution_count": 71,
   "metadata": {
    "scrolled": true
   },
   "outputs": [
    {
     "data": {
      "text/plain": [
       "Index(['destination_port', 'flow_duration', 'total_fwd_packets',\n",
       "       'total_backward_packets', 'total_length_of_fwd_packets',\n",
       "       'total_length_of_bwd_packets', 'fwd_packet_length_max',\n",
       "       'fwd_packet_length_min', 'fwd_packet_length_mean',\n",
       "       'fwd_packet_length_std', 'bwd_packet_length_max',\n",
       "       'bwd_packet_length_min', 'bwd_packet_length_mean',\n",
       "       'bwd_packet_length_std', 'flow_bytes/s', 'flow_packets/s',\n",
       "       'flow_iat_mean', 'flow_iat_std', 'flow_iat_max', 'flow_iat_min',\n",
       "       'fwd_iat_total', 'fwd_iat_mean', 'fwd_iat_std', 'fwd_iat_max',\n",
       "       'fwd_iat_min', 'bwd_iat_total', 'bwd_iat_mean', 'bwd_iat_std',\n",
       "       'bwd_iat_max', 'bwd_iat_min', 'fwd_psh_flags', 'bwd_psh_flags',\n",
       "       'fwd_urg_flags', 'bwd_urg_flags', 'fwd_header_length',\n",
       "       'bwd_header_length', 'fwd_packets/s', 'bwd_packets/s',\n",
       "       'min_packet_length', 'max_packet_length', 'packet_length_mean',\n",
       "       'packet_length_std', 'packet_length_variance', 'fin_flag_count',\n",
       "       'syn_flag_count', 'rst_flag_count', 'psh_flag_count', 'ack_flag_count',\n",
       "       'urg_flag_count', 'cwe_flag_count', 'ece_flag_count', 'down/up_ratio',\n",
       "       'average_packet_size', 'avg_fwd_segment_size', 'avg_bwd_segment_size',\n",
       "       'fwd_header_length.1', 'fwd_avg_bytes/bulk', 'fwd_avg_packets/bulk',\n",
       "       'fwd_avg_bulk_rate', 'bwd_avg_bytes/bulk', 'bwd_avg_packets/bulk',\n",
       "       'bwd_avg_bulk_rate', 'subflow_fwd_packets', 'subflow_fwd_bytes',\n",
       "       'subflow_bwd_packets', 'subflow_bwd_bytes', 'init_win_bytes_forward',\n",
       "       'init_win_bytes_backward', 'act_data_pkt_fwd', 'min_seg_size_forward',\n",
       "       'active_mean', 'active_std', 'active_max', 'active_min', 'idle_mean',\n",
       "       'idle_std', 'idle_max', 'idle_min', 'label'],\n",
       "      dtype='object')"
      ]
     },
     "execution_count": 71,
     "metadata": {},
     "output_type": "execute_result"
    }
   ],
   "source": [
    "df.rename(columns=lambda x: x.lower().lstrip()\n",
    "          .rstrip().replace(\" \", \"_\"), inplace=True)\n",
    "df.columns"
   ]
  },
  {
   "cell_type": "markdown",
   "metadata": {},
   "source": [
    "Here, we can see that `Flow Bytes/s`, `Flow Packets/s` and `Labels` are all objects, let's convert the types first"
   ]
  },
  {
   "cell_type": "code",
   "execution_count": 72,
   "metadata": {},
   "outputs": [],
   "source": [
    "df['flow_bytes/s'] = df['flow_bytes/s'].astype('float64')\n",
    "df['flow_packets/s'] = df['flow_packets/s'].astype('float64')"
   ]
  },
  {
   "cell_type": "markdown",
   "metadata": {},
   "source": [
    "As we can see, the data is highly imbalanced. This is actually a huge problem in IDS/IPS models since these imbalanced datasets give rise to a high number of false positives and false negatives. My reasoning would be optimizing the model without overfitting, and allowing more false positives than false negatives.\n",
    "\n",
    "Better safe than sorry..."
   ]
  },
  {
   "cell_type": "code",
   "execution_count": 73,
   "metadata": {},
   "outputs": [
    {
     "data": {
      "text/plain": [
       "BENIGN          818484\n",
       "Infiltration        36\n",
       "Name: label, dtype: int64"
      ]
     },
     "execution_count": 73,
     "metadata": {},
     "output_type": "execute_result"
    }
   ],
   "source": [
    "df.label.value_counts()"
   ]
  },
  {
   "cell_type": "markdown",
   "metadata": {},
   "source": [
    "Finally, let's visualize some of the features to see if there are any interesting distribution / trends."
   ]
  },
  {
   "cell_type": "code",
   "execution_count": null,
   "metadata": {
    "scrolled": true
   },
   "outputs": [],
   "source": [
    "numeric_dtypes = ['int64', 'float64']\n",
    "numeric = []\n",
    "\n",
    "# We just want the total instead of the pre-calculated features\n",
    "for i in df.columns:\n",
    "    if df[i].dtype in numeric_dtypes:\n",
    "        if 'mean' in i or 'min' in i or 'max' in i or 'std' in i or 'variance' in i:\n",
    "            pass\n",
    "        else:\n",
    "            numeric.append(i)\n",
    "\n",
    "# visualising data\n",
    "f, ax = plt.subplots(ncols=2, nrows=0, figsize=(12,12))\n",
    "plt.subplots_adjust(right=2)\n",
    "plt.subplots_adjust(top=2)\n",
    "sns.color_palette(\"husl\", 8)\n",
    "\n",
    "for i, feature in enumerate(list(df[numeric]), 1):\n",
    "    if i == 10:\n",
    "        break\n",
    "    plt.subplot(len(list(numeric)), 3, i)\n",
    "    sns.scatterplot(x=feature, y='label', hue='label', palette='Blues', data=df)\n",
    "    plt.xlabel('{}'.format(feature), size=15,labelpad=12.5)\n",
    "    plt.ylabel('Label', size=15, labelpad=12.5)\n",
    "    for j in range(2):\n",
    "        plt.tick_params(axis='x', labelsize=12)\n",
    "        plt.tick_params(axis='y', labelsize=12)\n",
    "    \n",
    "    plt.legend(loc='best', prop={'size': 10})\n",
    "        \n",
    "plt.show()\n",
    "        "
   ]
  },
  {
   "cell_type": "markdown",
   "metadata": {},
   "source": [
    "Last but not least, a quick look at the correlation between features."
   ]
  },
  {
   "cell_type": "code",
   "execution_count": null,
   "metadata": {
    "scrolled": true
   },
   "outputs": [],
   "source": [
    "correlation = df.corr()\n",
    "plt.subplots(figsize=(15,12))\n",
    "sns.heatmap(correlation, vmax=0.9, cmap=\"Blues\", square=True)"
   ]
  },
  {
   "cell_type": "markdown",
   "metadata": {},
   "source": [
    "## Feature Engineering"
   ]
  },
  {
   "cell_type": "markdown",
   "metadata": {},
   "source": [
    "First, we will remove all the pre-calculated mean, variance, std, min and max values for a smaller feature space."
   ]
  },
  {
   "cell_type": "code",
   "execution_count": 75,
   "metadata": {},
   "outputs": [],
   "source": [
    "cols = [col for col in list(df.columns) if 'mean' not in col and 'variance' not in col \n",
    "            and 'std' not in col and 'min' not in col and 'max' not in col]\n",
    "df = df[cols]"
   ]
  },
  {
   "cell_type": "markdown",
   "metadata": {},
   "source": [
    "Before we drop all missing values, we first procede to encode the categorical labels."
   ]
  },
  {
   "cell_type": "code",
   "execution_count": 81,
   "metadata": {},
   "outputs": [
    {
     "name": "stdout",
     "output_type": "stream",
     "text": [
      "{0: 'BENIGN', 1: 'Infiltration'}\n"
     ]
    },
    {
     "data": {
      "text/html": [
       "<div>\n",
       "<style scoped>\n",
       "    .dataframe tbody tr th:only-of-type {\n",
       "        vertical-align: middle;\n",
       "    }\n",
       "\n",
       "    .dataframe tbody tr th {\n",
       "        vertical-align: top;\n",
       "    }\n",
       "\n",
       "    .dataframe thead th {\n",
       "        text-align: right;\n",
       "    }\n",
       "</style>\n",
       "<table border=\"1\" class=\"dataframe\">\n",
       "  <thead>\n",
       "    <tr style=\"text-align: right;\">\n",
       "      <th></th>\n",
       "      <th>destination_port</th>\n",
       "      <th>flow_duration</th>\n",
       "      <th>total_fwd_packets</th>\n",
       "      <th>total_backward_packets</th>\n",
       "      <th>total_length_of_fwd_packets</th>\n",
       "      <th>total_length_of_bwd_packets</th>\n",
       "      <th>flow_bytes/s</th>\n",
       "      <th>flow_packets/s</th>\n",
       "      <th>fwd_iat_total</th>\n",
       "      <th>bwd_iat_total</th>\n",
       "      <th>...</th>\n",
       "      <th>bwd_avg_packets/bulk</th>\n",
       "      <th>bwd_avg_bulk_rate</th>\n",
       "      <th>subflow_fwd_packets</th>\n",
       "      <th>subflow_fwd_bytes</th>\n",
       "      <th>subflow_bwd_packets</th>\n",
       "      <th>subflow_bwd_bytes</th>\n",
       "      <th>init_win_bytes_forward</th>\n",
       "      <th>init_win_bytes_backward</th>\n",
       "      <th>act_data_pkt_fwd</th>\n",
       "      <th>label</th>\n",
       "    </tr>\n",
       "  </thead>\n",
       "  <tbody>\n",
       "    <tr>\n",
       "      <th>0</th>\n",
       "      <td>22</td>\n",
       "      <td>166</td>\n",
       "      <td>1</td>\n",
       "      <td>1</td>\n",
       "      <td>0</td>\n",
       "      <td>0</td>\n",
       "      <td>0.00</td>\n",
       "      <td>12048.19</td>\n",
       "      <td>0</td>\n",
       "      <td>0</td>\n",
       "      <td>...</td>\n",
       "      <td>0</td>\n",
       "      <td>0</td>\n",
       "      <td>1</td>\n",
       "      <td>0</td>\n",
       "      <td>1</td>\n",
       "      <td>0</td>\n",
       "      <td>290</td>\n",
       "      <td>243</td>\n",
       "      <td>0</td>\n",
       "      <td>0</td>\n",
       "    </tr>\n",
       "    <tr>\n",
       "      <th>1</th>\n",
       "      <td>60148</td>\n",
       "      <td>83</td>\n",
       "      <td>1</td>\n",
       "      <td>2</td>\n",
       "      <td>0</td>\n",
       "      <td>0</td>\n",
       "      <td>0.00</td>\n",
       "      <td>36144.58</td>\n",
       "      <td>0</td>\n",
       "      <td>49</td>\n",
       "      <td>...</td>\n",
       "      <td>0</td>\n",
       "      <td>0</td>\n",
       "      <td>1</td>\n",
       "      <td>0</td>\n",
       "      <td>2</td>\n",
       "      <td>0</td>\n",
       "      <td>243</td>\n",
       "      <td>290</td>\n",
       "      <td>0</td>\n",
       "      <td>0</td>\n",
       "    </tr>\n",
       "    <tr>\n",
       "      <th>2</th>\n",
       "      <td>123</td>\n",
       "      <td>99947</td>\n",
       "      <td>1</td>\n",
       "      <td>1</td>\n",
       "      <td>48</td>\n",
       "      <td>48</td>\n",
       "      <td>960.51</td>\n",
       "      <td>20.01</td>\n",
       "      <td>0</td>\n",
       "      <td>0</td>\n",
       "      <td>...</td>\n",
       "      <td>0</td>\n",
       "      <td>0</td>\n",
       "      <td>1</td>\n",
       "      <td>48</td>\n",
       "      <td>1</td>\n",
       "      <td>48</td>\n",
       "      <td>-1</td>\n",
       "      <td>-1</td>\n",
       "      <td>0</td>\n",
       "      <td>0</td>\n",
       "    </tr>\n",
       "    <tr>\n",
       "      <th>3</th>\n",
       "      <td>123</td>\n",
       "      <td>37017</td>\n",
       "      <td>1</td>\n",
       "      <td>1</td>\n",
       "      <td>48</td>\n",
       "      <td>48</td>\n",
       "      <td>2593.40</td>\n",
       "      <td>54.03</td>\n",
       "      <td>0</td>\n",
       "      <td>0</td>\n",
       "      <td>...</td>\n",
       "      <td>0</td>\n",
       "      <td>0</td>\n",
       "      <td>1</td>\n",
       "      <td>48</td>\n",
       "      <td>1</td>\n",
       "      <td>48</td>\n",
       "      <td>-1</td>\n",
       "      <td>-1</td>\n",
       "      <td>0</td>\n",
       "      <td>0</td>\n",
       "    </tr>\n",
       "    <tr>\n",
       "      <th>4</th>\n",
       "      <td>0</td>\n",
       "      <td>111161336</td>\n",
       "      <td>147</td>\n",
       "      <td>0</td>\n",
       "      <td>0</td>\n",
       "      <td>0</td>\n",
       "      <td>0.00</td>\n",
       "      <td>1.32</td>\n",
       "      <td>111000000</td>\n",
       "      <td>0</td>\n",
       "      <td>...</td>\n",
       "      <td>0</td>\n",
       "      <td>0</td>\n",
       "      <td>147</td>\n",
       "      <td>0</td>\n",
       "      <td>0</td>\n",
       "      <td>0</td>\n",
       "      <td>-1</td>\n",
       "      <td>-1</td>\n",
       "      <td>0</td>\n",
       "      <td>0</td>\n",
       "    </tr>\n",
       "  </tbody>\n",
       "</table>\n",
       "<p>5 rows × 45 columns</p>\n",
       "</div>"
      ],
      "text/plain": [
       "   destination_port  flow_duration  total_fwd_packets  total_backward_packets  \\\n",
       "0                22            166                  1                       1   \n",
       "1             60148             83                  1                       2   \n",
       "2               123          99947                  1                       1   \n",
       "3               123          37017                  1                       1   \n",
       "4                 0      111161336                147                       0   \n",
       "\n",
       "   total_length_of_fwd_packets  total_length_of_bwd_packets  flow_bytes/s  \\\n",
       "0                            0                            0          0.00   \n",
       "1                            0                            0          0.00   \n",
       "2                           48                           48        960.51   \n",
       "3                           48                           48       2593.40   \n",
       "4                            0                            0          0.00   \n",
       "\n",
       "   flow_packets/s  fwd_iat_total  bwd_iat_total  ...    bwd_avg_packets/bulk  \\\n",
       "0        12048.19              0              0  ...                       0   \n",
       "1        36144.58              0             49  ...                       0   \n",
       "2           20.01              0              0  ...                       0   \n",
       "3           54.03              0              0  ...                       0   \n",
       "4            1.32      111000000              0  ...                       0   \n",
       "\n",
       "   bwd_avg_bulk_rate  subflow_fwd_packets  subflow_fwd_bytes  \\\n",
       "0                  0                    1                  0   \n",
       "1                  0                    1                  0   \n",
       "2                  0                    1                 48   \n",
       "3                  0                    1                 48   \n",
       "4                  0                  147                  0   \n",
       "\n",
       "   subflow_bwd_packets  subflow_bwd_bytes  init_win_bytes_forward  \\\n",
       "0                    1                  0                     290   \n",
       "1                    2                  0                     243   \n",
       "2                    1                 48                      -1   \n",
       "3                    1                 48                      -1   \n",
       "4                    0                  0                      -1   \n",
       "\n",
       "   init_win_bytes_backward  act_data_pkt_fwd  label  \n",
       "0                      243                 0      0  \n",
       "1                      290                 0      0  \n",
       "2                       -1                 0      0  \n",
       "3                       -1                 0      0  \n",
       "4                       -1                 0      0  \n",
       "\n",
       "[5 rows x 45 columns]"
      ]
     },
     "execution_count": 81,
     "metadata": {},
     "output_type": "execute_result"
    }
   ],
   "source": [
    "# For categorical labels, one hot encode\n",
    "encoder = LabelEncoder()\n",
    "categorical_labels = (encoder.fit_transform(df.label))\n",
    "print({i:label for i,label in enumerate(encoder.classes_)})\n",
    "df = pd.concat([df.drop(['label'], 1),\n",
    "          pd.DataFrame({'label': categorical_labels})], axis=1).reindex()\n",
    "df.head()"
   ]
  },
  {
   "cell_type": "code",
   "execution_count": 59,
   "metadata": {},
   "outputs": [
    {
     "name": "stdout",
     "output_type": "stream",
     "text": [
      "Percent of missing data\n",
      "[('destination_port', 0.0), ('flow_duration', 0.0), ('total_fwd_packets', 0.0), ('total_backward_packets', 0.0), ('total_length_of_fwd_packets', 0.0), ('total_length_of_bwd_packets', 0.0), ('flow_bytes/s', 0.0), ('flow_packets/s', 0.0), ('fwd_iat_total', 0.0), ('bwd_iat_total', 0.0)]\n"
     ]
    }
   ],
   "source": [
    "# Finding missing values\n",
    "def percent_missing(df_cols):\n",
    "    dict_x = {}\n",
    "    for i in range(0,len(df_cols)):\n",
    "        dict_x.update({df_cols[i]: round(df[df_cols[i]].isnull().mean()*100,2)})\n",
    "    return dict_x\n",
    "\n",
    "missing = percent_missing(df.drop(['label'], axis=1).columns)\n",
    "df_miss = sorted(missing.items(), key=lambda kv: kv[1], reverse=True)\n",
    "print('Percent of missing data')\n",
    "print(df_miss[0:10])"
   ]
  },
  {
   "cell_type": "code",
   "execution_count": 88,
   "metadata": {
    "scrolled": true
   },
   "outputs": [
    {
     "name": "stdout",
     "output_type": "stream",
     "text": [
      "False\n",
      "True\n"
     ]
    }
   ],
   "source": [
    "# find all infinite or -infinite values\n",
    "df = df.replace([np.inf, -np.inf], np.nan)\n",
    "# Drop all nan values and remaining non-finite values\n",
    "df = df[~np.any(np.isnan(df), axis=1)]\n",
    "df = df[np.all(np.isfinite(df), axis=1)]\n",
    "# Make sure the dataframe is clean\n",
    "print(np.any(pd.isnull(df))) # Should be False\n",
    "print(np.all(np.isfinite(df.loc[:, df.columns != 'label']))) # Should be True"
   ]
  },
  {
   "cell_type": "code",
   "execution_count": 90,
   "metadata": {},
   "outputs": [
    {
     "data": {
      "text/plain": [
       "(817876, 45)"
      ]
     },
     "execution_count": 90,
     "metadata": {},
     "output_type": "execute_result"
    }
   ],
   "source": [
    "df.shape"
   ]
  },
  {
   "cell_type": "code",
   "execution_count": 91,
   "metadata": {},
   "outputs": [
    {
     "data": {
      "text/html": [
       "<div>\n",
       "<style scoped>\n",
       "    .dataframe tbody tr th:only-of-type {\n",
       "        vertical-align: middle;\n",
       "    }\n",
       "\n",
       "    .dataframe tbody tr th {\n",
       "        vertical-align: top;\n",
       "    }\n",
       "\n",
       "    .dataframe thead th {\n",
       "        text-align: right;\n",
       "    }\n",
       "</style>\n",
       "<table border=\"1\" class=\"dataframe\">\n",
       "  <thead>\n",
       "    <tr style=\"text-align: right;\">\n",
       "      <th></th>\n",
       "      <th>destination_port</th>\n",
       "      <th>flow_duration</th>\n",
       "      <th>total_fwd_packets</th>\n",
       "      <th>total_backward_packets</th>\n",
       "      <th>total_length_of_fwd_packets</th>\n",
       "      <th>total_length_of_bwd_packets</th>\n",
       "      <th>flow_bytes/s</th>\n",
       "      <th>flow_packets/s</th>\n",
       "      <th>fwd_iat_total</th>\n",
       "      <th>bwd_iat_total</th>\n",
       "      <th>...</th>\n",
       "      <th>bwd_avg_bytes/bulk</th>\n",
       "      <th>bwd_avg_packets/bulk</th>\n",
       "      <th>bwd_avg_bulk_rate</th>\n",
       "      <th>subflow_fwd_packets</th>\n",
       "      <th>subflow_fwd_bytes</th>\n",
       "      <th>subflow_bwd_packets</th>\n",
       "      <th>subflow_bwd_bytes</th>\n",
       "      <th>init_win_bytes_forward</th>\n",
       "      <th>init_win_bytes_backward</th>\n",
       "      <th>act_data_pkt_fwd</th>\n",
       "    </tr>\n",
       "  </thead>\n",
       "  <tbody>\n",
       "    <tr>\n",
       "      <th>0</th>\n",
       "      <td>22</td>\n",
       "      <td>166</td>\n",
       "      <td>1</td>\n",
       "      <td>1</td>\n",
       "      <td>0</td>\n",
       "      <td>0</td>\n",
       "      <td>0.00</td>\n",
       "      <td>12048.19</td>\n",
       "      <td>0</td>\n",
       "      <td>0</td>\n",
       "      <td>...</td>\n",
       "      <td>0</td>\n",
       "      <td>0</td>\n",
       "      <td>0</td>\n",
       "      <td>1</td>\n",
       "      <td>0</td>\n",
       "      <td>1</td>\n",
       "      <td>0</td>\n",
       "      <td>290</td>\n",
       "      <td>243</td>\n",
       "      <td>0</td>\n",
       "    </tr>\n",
       "    <tr>\n",
       "      <th>1</th>\n",
       "      <td>60148</td>\n",
       "      <td>83</td>\n",
       "      <td>1</td>\n",
       "      <td>2</td>\n",
       "      <td>0</td>\n",
       "      <td>0</td>\n",
       "      <td>0.00</td>\n",
       "      <td>36144.58</td>\n",
       "      <td>0</td>\n",
       "      <td>49</td>\n",
       "      <td>...</td>\n",
       "      <td>0</td>\n",
       "      <td>0</td>\n",
       "      <td>0</td>\n",
       "      <td>1</td>\n",
       "      <td>0</td>\n",
       "      <td>2</td>\n",
       "      <td>0</td>\n",
       "      <td>243</td>\n",
       "      <td>290</td>\n",
       "      <td>0</td>\n",
       "    </tr>\n",
       "    <tr>\n",
       "      <th>2</th>\n",
       "      <td>123</td>\n",
       "      <td>99947</td>\n",
       "      <td>1</td>\n",
       "      <td>1</td>\n",
       "      <td>48</td>\n",
       "      <td>48</td>\n",
       "      <td>960.51</td>\n",
       "      <td>20.01</td>\n",
       "      <td>0</td>\n",
       "      <td>0</td>\n",
       "      <td>...</td>\n",
       "      <td>0</td>\n",
       "      <td>0</td>\n",
       "      <td>0</td>\n",
       "      <td>1</td>\n",
       "      <td>48</td>\n",
       "      <td>1</td>\n",
       "      <td>48</td>\n",
       "      <td>-1</td>\n",
       "      <td>-1</td>\n",
       "      <td>0</td>\n",
       "    </tr>\n",
       "    <tr>\n",
       "      <th>3</th>\n",
       "      <td>123</td>\n",
       "      <td>37017</td>\n",
       "      <td>1</td>\n",
       "      <td>1</td>\n",
       "      <td>48</td>\n",
       "      <td>48</td>\n",
       "      <td>2593.40</td>\n",
       "      <td>54.03</td>\n",
       "      <td>0</td>\n",
       "      <td>0</td>\n",
       "      <td>...</td>\n",
       "      <td>0</td>\n",
       "      <td>0</td>\n",
       "      <td>0</td>\n",
       "      <td>1</td>\n",
       "      <td>48</td>\n",
       "      <td>1</td>\n",
       "      <td>48</td>\n",
       "      <td>-1</td>\n",
       "      <td>-1</td>\n",
       "      <td>0</td>\n",
       "    </tr>\n",
       "    <tr>\n",
       "      <th>4</th>\n",
       "      <td>0</td>\n",
       "      <td>111161336</td>\n",
       "      <td>147</td>\n",
       "      <td>0</td>\n",
       "      <td>0</td>\n",
       "      <td>0</td>\n",
       "      <td>0.00</td>\n",
       "      <td>1.32</td>\n",
       "      <td>111000000</td>\n",
       "      <td>0</td>\n",
       "      <td>...</td>\n",
       "      <td>0</td>\n",
       "      <td>0</td>\n",
       "      <td>0</td>\n",
       "      <td>147</td>\n",
       "      <td>0</td>\n",
       "      <td>0</td>\n",
       "      <td>0</td>\n",
       "      <td>-1</td>\n",
       "      <td>-1</td>\n",
       "      <td>0</td>\n",
       "    </tr>\n",
       "  </tbody>\n",
       "</table>\n",
       "<p>5 rows × 44 columns</p>\n",
       "</div>"
      ],
      "text/plain": [
       "   destination_port  flow_duration  total_fwd_packets  total_backward_packets  \\\n",
       "0                22            166                  1                       1   \n",
       "1             60148             83                  1                       2   \n",
       "2               123          99947                  1                       1   \n",
       "3               123          37017                  1                       1   \n",
       "4                 0      111161336                147                       0   \n",
       "\n",
       "   total_length_of_fwd_packets  total_length_of_bwd_packets  flow_bytes/s  \\\n",
       "0                            0                            0          0.00   \n",
       "1                            0                            0          0.00   \n",
       "2                           48                           48        960.51   \n",
       "3                           48                           48       2593.40   \n",
       "4                            0                            0          0.00   \n",
       "\n",
       "   flow_packets/s  fwd_iat_total  bwd_iat_total        ...         \\\n",
       "0        12048.19              0              0        ...          \n",
       "1        36144.58              0             49        ...          \n",
       "2           20.01              0              0        ...          \n",
       "3           54.03              0              0        ...          \n",
       "4            1.32      111000000              0        ...          \n",
       "\n",
       "   bwd_avg_bytes/bulk  bwd_avg_packets/bulk  bwd_avg_bulk_rate  \\\n",
       "0                   0                     0                  0   \n",
       "1                   0                     0                  0   \n",
       "2                   0                     0                  0   \n",
       "3                   0                     0                  0   \n",
       "4                   0                     0                  0   \n",
       "\n",
       "   subflow_fwd_packets  subflow_fwd_bytes  subflow_bwd_packets  \\\n",
       "0                    1                  0                    1   \n",
       "1                    1                  0                    2   \n",
       "2                    1                 48                    1   \n",
       "3                    1                 48                    1   \n",
       "4                  147                  0                    0   \n",
       "\n",
       "   subflow_bwd_bytes  init_win_bytes_forward  init_win_bytes_backward  \\\n",
       "0                  0                     290                      243   \n",
       "1                  0                     243                      290   \n",
       "2                 48                      -1                       -1   \n",
       "3                 48                      -1                       -1   \n",
       "4                  0                      -1                       -1   \n",
       "\n",
       "   act_data_pkt_fwd  \n",
       "0                 0  \n",
       "1                 0  \n",
       "2                 0  \n",
       "3                 0  \n",
       "4                 0  \n",
       "\n",
       "[5 rows x 44 columns]"
      ]
     },
     "execution_count": 91,
     "metadata": {},
     "output_type": "execute_result"
    }
   ],
   "source": [
    "numerical_cols = df[[i for i in list(df.columns) if 'label' not in i]]\n",
    "target_variables = df.label\n",
    "numerical_cols.head()"
   ]
  },
  {
   "cell_type": "code",
   "execution_count": 161,
   "metadata": {},
   "outputs": [
    {
     "name": "stdout",
     "output_type": "stream",
     "text": [
      "['total_length_of_fwd_packets' 'bwd_iat_total' 'flow_duration'\n",
      " 'fwd_iat_total' 'fwd_psh_flags' 'total_backward_packets'\n",
      " 'avg_fwd_segment_size' 'syn_flag_count' 'ack_flag_count'\n",
      " 'total_fwd_packets' 'subflow_fwd_bytes' 'act_data_pkt_fwd'\n",
      " 'subflow_fwd_packets' 'subflow_bwd_packets' 'avg_bwd_segment_size'\n",
      " 'destination_port']\n"
     ]
    },
    {
     "data": {
      "image/png": "[encoded data removed]",
      "text/plain": [
       "<Figure size 432x288 with 1 Axes>"
      ]
     },
     "metadata": {
      "needs_background": "light"
     },
     "output_type": "display_data"
    }
   ],
   "source": [
    "best_features = SelectPercentile(f_classif, percentile=10)\n",
    "fit = best_features.fit(numerical_cols, target_variables)\n",
    "scores = -np.log10(fit.pvalues_)\n",
    "score_dicts = dict(zip(numerical_cols.columns, scores))\n",
    "sorted_score_dicts = sorted(score_dicts.items(), key=lambda x: x[1], reverse=True)\n",
    "\n",
    "# Use a dataframe for easier processing\n",
    "sorted_score_df = pd.DataFrame(sorted_score_dicts).dropna().reset_index(drop=True)\n",
    "sorted_score_df = sorted_score_df.replace(np.inf, np.max(sorted_score_df[sorted_score_df != np.inf]))\n",
    "\n",
    "# Get feature columns for future use\n",
    "selected_features = np.array(sorted_score_df.loc[:15, 0])\n",
    "print(selected_features)\n",
    "\n",
    "# Plotting feature significance\n",
    "fig = plt.bar(sorted_score_df[0], sorted_score_df[1]) \n",
    "plt.xticks(rotation=90)\n",
    "plt.show()"
   ]
  },
  {
   "cell_type": "markdown",
   "metadata": {},
   "source": [
    "## Exploring with KMeans & PCA"
   ]
  },
  {
   "cell_type": "markdown",
   "metadata": {},
   "source": [
    "Even though that we've trimmed down the features to 15, we would use 45 features first. Then, we can start fitting them in different models and evaluating their performance. \n",
    "\n",
    "> First, we'll attempt to explore the data further thru clustering and PCA analysis."
   ]
  },
  {
   "cell_type": "code",
   "execution_count": 209,
   "metadata": {},
   "outputs": [
    {
     "name": "stdout",
     "output_type": "stream",
     "text": [
      "False\n",
      "True\n"
     ]
    }
   ],
   "source": [
    "X_train, X_test, y_train, y_test = train_test_split(numerical_cols,target_variables,test_size=0.2, random_state=42)\n",
    "\n",
    "print(np.any(np.isnan(X_train)))\n",
    "print(np.all(np.isfinite(X_train)))"
   ]
  },
  {
   "cell_type": "markdown",
   "metadata": {},
   "source": [
    "## KMeans w/ PCA"
   ]
  },
  {
   "cell_type": "code",
   "execution_count": 223,
   "metadata": {},
   "outputs": [
    {
     "name": "stdout",
     "output_type": "stream",
     "text": [
      "[0.76229221 0.21952421]\n"
     ]
    }
   ],
   "source": [
    "pca_train = PCA(n_components=2)\n",
    "pca_train.fit(X_train)\n",
    "print(pca_train.explained_variance_ratio_)\n",
    "pca_train_data = pca_train.transform(X_train)"
   ]
  },
  {
   "cell_type": "markdown",
   "metadata": {},
   "source": [
    "As we can see, the first component accounts for about 76% meaning of the data whilst the second accounts for about 21%. The total information lost would be around 100-97 = 3%"
   ]
  },
  {
   "cell_type": "code",
   "execution_count": 224,
   "metadata": {},
   "outputs": [
    {
     "data": {
      "text/html": [
       "<div>\n",
       "<style scoped>\n",
       "    .dataframe tbody tr th:only-of-type {\n",
       "        vertical-align: middle;\n",
       "    }\n",
       "\n",
       "    .dataframe tbody tr th {\n",
       "        vertical-align: top;\n",
       "    }\n",
       "\n",
       "    .dataframe thead th {\n",
       "        text-align: right;\n",
       "    }\n",
       "</style>\n",
       "<table border=\"1\" class=\"dataframe\">\n",
       "  <thead>\n",
       "    <tr style=\"text-align: right;\">\n",
       "      <th></th>\n",
       "      <th>principal_component_1</th>\n",
       "      <th>principal_component_2</th>\n",
       "      <th>label</th>\n",
       "    </tr>\n",
       "  </thead>\n",
       "  <tbody>\n",
       "    <tr>\n",
       "      <th>0</th>\n",
       "      <td>-4.87e+06</td>\n",
       "      <td>-1.69e+06</td>\n",
       "      <td>0.0</td>\n",
       "    </tr>\n",
       "    <tr>\n",
       "      <th>1</th>\n",
       "      <td>-1.66e+07</td>\n",
       "      <td>1.01e+07</td>\n",
       "      <td>0.0</td>\n",
       "    </tr>\n",
       "    <tr>\n",
       "      <th>2</th>\n",
       "      <td>-1.64e+07</td>\n",
       "      <td>-1.87e+06</td>\n",
       "      <td>0.0</td>\n",
       "    </tr>\n",
       "    <tr>\n",
       "      <th>3</th>\n",
       "      <td>-1.64e+07</td>\n",
       "      <td>-1.88e+06</td>\n",
       "      <td>0.0</td>\n",
       "    </tr>\n",
       "    <tr>\n",
       "      <th>4</th>\n",
       "      <td>-1.64e+07</td>\n",
       "      <td>-1.87e+06</td>\n",
       "      <td>0.0</td>\n",
       "    </tr>\n",
       "  </tbody>\n",
       "</table>\n",
       "</div>"
      ],
      "text/plain": [
       "   principal_component_1  principal_component_2  label\n",
       "0              -4.87e+06              -1.69e+06    0.0\n",
       "1              -1.66e+07               1.01e+07    0.0\n",
       "2              -1.64e+07              -1.87e+06    0.0\n",
       "3              -1.64e+07              -1.88e+06    0.0\n",
       "4              -1.64e+07              -1.87e+06    0.0"
      ]
     },
     "execution_count": 224,
     "metadata": {},
     "output_type": "execute_result"
    }
   ],
   "source": [
    "pca_train_df = pd.DataFrame(data = pca_data\n",
    "             , columns = ['principal_component_1', 'principal_component_2'])\n",
    "pca_train_df = pd.concat([pca_train_df,y_train], axis=1)\n",
    "pca_train_df.head(5)"
   ]
  },
  {
   "cell_type": "markdown",
   "metadata": {},
   "source": [
    "Here, we have to drop the nan columns again due to varaible lost in PCA."
   ]
  },
  {
   "cell_type": "code",
   "execution_count": 225,
   "metadata": {},
   "outputs": [
    {
     "name": "stdout",
     "output_type": "stream",
     "text": [
      "False\n",
      "True\n"
     ]
    }
   ],
   "source": [
    "pca_train_df = pca_train_df.replace([np.inf, -np.inf], np.nan)\n",
    "pca_train_df.dropna(axis=0, inplace=True)\n",
    "print(np.any(pd.isnull(pca_train_df))) # Should be False\n",
    "print(np.all(np.isfinite(pca_train_df))) # Should be True"
   ]
  },
  {
   "cell_type": "markdown",
   "metadata": {},
   "source": [
    "An initial look at the data:"
   ]
  },
  {
   "cell_type": "code",
   "execution_count": 228,
   "metadata": {},
   "outputs": [
    {
     "data": {
      "image/png": "[encoded data removed]",
      "text/plain": [
       "<Figure size 576x576 with 1 Axes>"
      ]
     },
     "metadata": {
      "needs_background": "light"
     },
     "output_type": "display_data"
    }
   ],
   "source": [
    "fig = plt.figure(figsize = (8,8))\n",
    "ax = fig.add_subplot(1,1,1) \n",
    "ax.set_xlabel('Principal Component 1', fontsize = 15)\n",
    "ax.set_ylabel('Principal Component 2', fontsize = 15)\n",
    "ax.set_title('2 component PCA', fontsize = 20)\n",
    "targets = [0, 1]\n",
    "colors = ['b', 'r']\n",
    "for target, color in zip(targets,colors):\n",
    "    indicesToKeep = pca_train_df['label'] == target\n",
    "    ax.scatter(pca_train_df.loc[indicesToKeep, 'principal_component_1']\n",
    "               , pca_train_df.loc[indicesToKeep, 'principal_component_2']\n",
    "               , c = color\n",
    "               , s = 50)\n",
    "ax.legend(['Normal', 'Infiltration'])\n",
    "ax.grid()"
   ]
  },
  {
   "cell_type": "markdown",
   "metadata": {},
   "source": [
    "> We can see that it is rather hard for the kmeans algorithm to assign clusters as there would be too much overlapping and lead to false positives. This either attributes to inseparable features between infiltration and normal network activity, or the poor feature selection on my part. (Imbalanced dataset causing the select percentile algorithm to pick out features closely correlated with normal activity)"
   ]
  },
  {
   "cell_type": "markdown",
   "metadata": {},
   "source": [
    "Here, we will proceed again with the elbow method and try clustering to determine anomalies."
   ]
  },
  {
   "cell_type": "code",
   "execution_count": 221,
   "metadata": {},
   "outputs": [
    {
     "data": {
      "text/plain": [
       "(653812, 3)"
      ]
     },
     "execution_count": 221,
     "metadata": {},
     "output_type": "execute_result"
    }
   ],
   "source": [
    "pca_train_df.shape"
   ]
  },
  {
   "cell_type": "markdown",
   "metadata": {},
   "source": [
    "### Using Elbow method to determine k-value"
   ]
  },
  {
   "cell_type": "code",
   "execution_count": 174,
   "metadata": {},
   "outputs": [
    {
     "name": "stdout",
     "output_type": "stream",
     "text": [
      "{5: 2689603.932479745, 30: 537198.2461763724, 55: 375222.7384289589, 80: 295378.0723156741}\n"
     ]
    }
   ],
   "source": [
    "def eval_kmeans(k, dataset, **kwargs):\n",
    "    estimator = KMeans(random_state=42, n_clusters=k)\n",
    "    estimator.fit(dataset)\n",
    "    return sum(np.min(cdist(dataset, estimator.cluster_centers_, \n",
    "                 'euclidean'),axis=1)) / dataset.shape[0] \n",
    "\n",
    "range_k = range(5,100,25)\n",
    "res = {}\n",
    "for k in range_k:\n",
    "    res[k] = (eval_kmeans(k, pca_df))\n",
    "    \n",
    "print(res)"
   ]
  },
  {
   "cell_type": "code",
   "execution_count": 175,
   "metadata": {},
   "outputs": [
    {
     "data": {
      "text/plain": [
       "Text(0.5, 1.0, 'Percentage variance by. K')"
      ]
     },
     "execution_count": 175,
     "metadata": {},
     "output_type": "execute_result"
    },
    {
     "data": {
      "image/png": "[encoded data removed]",
      "text/plain": [
       "<Figure size 432x288 with 1 Axes>"
      ]
     },
     "metadata": {
      "needs_background": "light"
     },
     "output_type": "display_data"
    }
   ],
   "source": [
    "fig, ax = plt.subplots()\n",
    "ax.plot([c[0] for c in res.items()], [c[1] for c in res.items()])\n",
    "ax.set_ylabel('percentage variance', color='blue')\n",
    "plt.xlabel(\"K\")\n",
    "plt.title(\"Percentage variance by. K\")"
   ]
  },
  {
   "cell_type": "markdown",
   "metadata": {},
   "source": [
    "> Hence, we will use k=30 since it is the point where the sum of squared error between the points and cluster centers reach the elbow point. "
   ]
  },
  {
   "cell_type": "code",
   "execution_count": 222,
   "metadata": {},
   "outputs": [
    {
     "ename": "TypeError",
     "evalue": "predict() missing 1 required positional argument: 'X'",
     "output_type": "error",
     "traceback": [
      "\u001b[0;31m---------------------------------------------------------------------------\u001b[0m",
      "\u001b[0;31mTypeError\u001b[0m                                 Traceback (most recent call last)",
      "\u001b[0;32m<ipython-input-222-77e5a0da867f>\u001b[0m in \u001b[0;36m<module>\u001b[0;34m\u001b[0m\n\u001b[1;32m      4\u001b[0m \u001b[0;31m# Setting up y_labels for training and testing data\u001b[0m\u001b[0;34m\u001b[0m\u001b[0;34m\u001b[0m\u001b[0;34m\u001b[0m\u001b[0m\n\u001b[1;32m      5\u001b[0m \u001b[0my_pred_train\u001b[0m \u001b[0;34m=\u001b[0m \u001b[0mestimator_kmeans\u001b[0m\u001b[0;34m.\u001b[0m\u001b[0mlabels_\u001b[0m\u001b[0;34m\u001b[0m\u001b[0;34m\u001b[0m\u001b[0m\n\u001b[0;32m----> 6\u001b[0;31m \u001b[0my_pred_test\u001b[0m \u001b[0;34m=\u001b[0m \u001b[0mestimator_kmeans\u001b[0m\u001b[0;34m.\u001b[0m\u001b[0mpredict\u001b[0m\u001b[0;34m(\u001b[0m\u001b[0;34m)\u001b[0m\u001b[0;34m\u001b[0m\u001b[0;34m\u001b[0m\u001b[0m\n\u001b[0m",
      "\u001b[0;31mTypeError\u001b[0m: predict() missing 1 required positional argument: 'X'"
     ]
    }
   ],
   "source": [
    "estimator_kmeans = KMeans(n_clusters=30, random_state=42)\n",
    "estimator_kmeans.fit(pca_df)\n",
    "\n",
    "# Setting up y_labels for training and testing data\n",
    "y_pred_train = estimator_kmeans.labels_\n",
    "y_pred_test = estimator_kmeans.predict()"
   ]
  },
  {
   "cell_type": "code",
   "execution_count": 179,
   "metadata": {
    "scrolled": true
   },
   "outputs": [
    {
     "data": {
      "text/plain": [
       "0     525476\n",
       "9      31624\n",
       "2      18459\n",
       "16      9821\n",
       "19      8658\n",
       "15      7768\n",
       "22      5093\n",
       "24      4494\n",
       "6       4387\n",
       "28      3927\n",
       "18      3725\n",
       "14      2932\n",
       "1       2856\n",
       "10      2563\n",
       "5       2461\n",
       "8       2227\n",
       "13      2150\n",
       "12      1936\n",
       "21      1719\n",
       "3       1588\n",
       "4       1569\n",
       "17      1435\n",
       "11      1341\n",
       "25      1313\n",
       "29      1214\n",
       "27      1108\n",
       "23       844\n",
       "7        519\n",
       "20       383\n",
       "26       222\n",
       "Name: cluster_id, dtype: int64"
      ]
     },
     "execution_count": 179,
     "metadata": {},
     "output_type": "execute_result"
    }
   ],
   "source": [
    "cluster_df = pca_df.assign(cluster_id = estimator_kmeans.labels_).reset_index()\n",
    "cluster_df.cluster_id.value_counts()"
   ]
  },
  {
   "cell_type": "code",
   "execution_count": 180,
   "metadata": {},
   "outputs": [
    {
     "data": {
      "text/html": [
       "<div>\n",
       "<style scoped>\n",
       "    .dataframe tbody tr th:only-of-type {\n",
       "        vertical-align: middle;\n",
       "    }\n",
       "\n",
       "    .dataframe tbody tr th {\n",
       "        vertical-align: top;\n",
       "    }\n",
       "\n",
       "    .dataframe thead th {\n",
       "        text-align: right;\n",
       "    }\n",
       "</style>\n",
       "<table border=\"1\" class=\"dataframe\">\n",
       "  <thead>\n",
       "    <tr style=\"text-align: right;\">\n",
       "      <th></th>\n",
       "      <th>principal_component_1</th>\n",
       "      <th>principal_component_2</th>\n",
       "      <th>label</th>\n",
       "      <th>count</th>\n",
       "    </tr>\n",
       "    <tr>\n",
       "      <th>cluster_id</th>\n",
       "      <th></th>\n",
       "      <th></th>\n",
       "      <th></th>\n",
       "      <th></th>\n",
       "    </tr>\n",
       "  </thead>\n",
       "  <tbody>\n",
       "    <tr>\n",
       "      <th>0</th>\n",
       "      <td>-1.63e+07</td>\n",
       "      <td>-4.19e+05</td>\n",
       "      <td>5.14e-05</td>\n",
       "      <td>525476</td>\n",
       "    </tr>\n",
       "    <tr>\n",
       "      <th>1</th>\n",
       "      <td>1.41e+08</td>\n",
       "      <td>-3.33e+06</td>\n",
       "      <td>0.00e+00</td>\n",
       "      <td>2856</td>\n",
       "    </tr>\n",
       "    <tr>\n",
       "      <th>2</th>\n",
       "      <td>1.82e+08</td>\n",
       "      <td>-6.89e+05</td>\n",
       "      <td>1.63e-04</td>\n",
       "      <td>18459</td>\n",
       "    </tr>\n",
       "  </tbody>\n",
       "</table>\n",
       "</div>"
      ],
      "text/plain": [
       "            principal_component_1  principal_component_2     label   count\n",
       "cluster_id                                                                \n",
       "0                       -1.63e+07              -4.19e+05  5.14e-05  525476\n",
       "1                        1.41e+08              -3.33e+06  0.00e+00    2856\n",
       "2                        1.82e+08              -6.89e+05  1.63e-04   18459"
      ]
     },
     "execution_count": 180,
     "metadata": {},
     "output_type": "execute_result"
    }
   ],
   "source": [
    "cluster_size = cluster_df.groupby(['cluster_id']).size().reset_index()\n",
    "cluster_size.columns = ['cluster_id', 'count']\n",
    "cluster_means = cluster_df.groupby(['cluster_id'], as_index=False).mean()\n",
    "cluster_summary = pd.merge(cluster_means, cluster_size, on=\"cluster_id\")\n",
    "cluster_summary = (cluster_summary.drop(\"index\", axis=1).set_index(\"cluster_id\"))\n",
    "cluster_summary.head(3)"
   ]
  },
  {
   "cell_type": "markdown",
   "metadata": {},
   "source": [
    "As we can see, most of the entries cluster around `cluster_id 0`. \n",
    "\n",
    "Since the kmeans algo with 30 clusters may not be the best fit for this dataset, it is hard to visualize the results. Hence, lets skip to evaluating the accuracy of the kmeans algorithm after PCA decomposition."
   ]
  },
  {
   "cell_type": "code",
   "execution_count": 215,
   "metadata": {},
   "outputs": [
    {
     "data": {
      "text/html": [
       "<div>\n",
       "<style scoped>\n",
       "    .dataframe tbody tr th:only-of-type {\n",
       "        vertical-align: middle;\n",
       "    }\n",
       "\n",
       "    .dataframe tbody tr th {\n",
       "        vertical-align: top;\n",
       "    }\n",
       "\n",
       "    .dataframe thead th {\n",
       "        text-align: right;\n",
       "    }\n",
       "</style>\n",
       "<table border=\"1\" class=\"dataframe\">\n",
       "  <thead>\n",
       "    <tr style=\"text-align: right;\">\n",
       "      <th></th>\n",
       "      <th>principal_component_1</th>\n",
       "      <th>principal_component_2</th>\n",
       "      <th>label</th>\n",
       "    </tr>\n",
       "  </thead>\n",
       "  <tbody>\n",
       "    <tr>\n",
       "      <th>0</th>\n",
       "      <td>-4.87e+06</td>\n",
       "      <td>-1.69e+06</td>\n",
       "      <td>0.0</td>\n",
       "    </tr>\n",
       "    <tr>\n",
       "      <th>1</th>\n",
       "      <td>-1.66e+07</td>\n",
       "      <td>1.01e+07</td>\n",
       "      <td>0.0</td>\n",
       "    </tr>\n",
       "    <tr>\n",
       "      <th>2</th>\n",
       "      <td>-1.64e+07</td>\n",
       "      <td>-1.87e+06</td>\n",
       "      <td>0.0</td>\n",
       "    </tr>\n",
       "    <tr>\n",
       "      <th>3</th>\n",
       "      <td>-1.64e+07</td>\n",
       "      <td>-1.88e+06</td>\n",
       "      <td>0.0</td>\n",
       "    </tr>\n",
       "    <tr>\n",
       "      <th>4</th>\n",
       "      <td>-1.64e+07</td>\n",
       "      <td>-1.87e+06</td>\n",
       "      <td>0.0</td>\n",
       "    </tr>\n",
       "    <tr>\n",
       "      <th>5</th>\n",
       "      <td>-1.64e+07</td>\n",
       "      <td>-4.27e+05</td>\n",
       "      <td>0.0</td>\n",
       "    </tr>\n",
       "    <tr>\n",
       "      <th>6</th>\n",
       "      <td>-1.64e+07</td>\n",
       "      <td>-7.48e+05</td>\n",
       "      <td>0.0</td>\n",
       "    </tr>\n",
       "    <tr>\n",
       "      <th>7</th>\n",
       "      <td>1.62e+08</td>\n",
       "      <td>9.81e+05</td>\n",
       "      <td>0.0</td>\n",
       "    </tr>\n",
       "    <tr>\n",
       "      <th>8</th>\n",
       "      <td>-1.62e+07</td>\n",
       "      <td>-1.45e+06</td>\n",
       "      <td>0.0</td>\n",
       "    </tr>\n",
       "    <tr>\n",
       "      <th>9</th>\n",
       "      <td>5.86e+07</td>\n",
       "      <td>-7.36e+05</td>\n",
       "      <td>0.0</td>\n",
       "    </tr>\n",
       "  </tbody>\n",
       "</table>\n",
       "</div>"
      ],
      "text/plain": [
       "   principal_component_1  principal_component_2  label\n",
       "0              -4.87e+06              -1.69e+06    0.0\n",
       "1              -1.66e+07               1.01e+07    0.0\n",
       "2              -1.64e+07              -1.87e+06    0.0\n",
       "3              -1.64e+07              -1.88e+06    0.0\n",
       "4              -1.64e+07              -1.87e+06    0.0\n",
       "5              -1.64e+07              -4.27e+05    0.0\n",
       "6              -1.64e+07              -7.48e+05    0.0\n",
       "7               1.62e+08               9.81e+05    0.0\n",
       "8              -1.62e+07              -1.45e+06    0.0\n",
       "9               5.86e+07              -7.36e+05    0.0"
      ]
     },
     "execution_count": 215,
     "metadata": {},
     "output_type": "execute_result"
    }
   ],
   "source": [
    "pca_df[]"
   ]
  },
  {
   "cell_type": "code",
   "execution_count": null,
   "metadata": {},
   "outputs": [],
   "source": []
  }
 ],
 "metadata": {
  "kernelspec": {
   "display_name": "'Python Interactive'",
   "language": "python",
   "name": "6867d4e3-be4b-4c07-afaf-e5bf8f1a7f8b"
  },
  "language_info": {
   "codemirror_mode": {
    "name": "ipython",
    "version": 3
   },
   "file_extension": ".py",
   "mimetype": "text/x-python",
   "name": "python",
   "nbconvert_exporter": "python",
   "pygments_lexer": "ipython3",
   "version": "3.7.1"
  }
 },
 "nbformat": 4,
 "nbformat_minor": 2
}
